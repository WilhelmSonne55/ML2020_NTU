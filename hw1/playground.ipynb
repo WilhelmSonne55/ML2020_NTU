{
  "nbformat": 4,
  "nbformat_minor": 0,
  "metadata": {
    "colab": {
      "name": "「hw1_regression.ipynb」的副本",
      "provenance": [],
      "collapsed_sections": [],
      "toc_visible": true
    },
    "kernelspec": {
      "name": "python3",
      "display_name": "Python 3"
    }
  },
  "cells": [
    {
      "cell_type": "markdown",
      "metadata": {
        "id": "p9FfatPz6MU3"
      },
      "source": [
        "# **Homework 1: Linear Regression**"
      ]
    },
    {
      "cell_type": "markdown",
      "metadata": {
        "id": "fsoaNwrZA0ui"
      },
      "source": [
        "本次目標：由前 9 個小時的 18 個 features (包含 PM2.5)預測的 10 個小時的 PM2.5。<!-- 可以參考 <link> 獲知更細項的作業說明。-->\n",
        "\n",
        "<!-- 首先，從 https://drive.google.com/open?id=1El0zvTkrSuqCTDcMpijXpADvJzZC2Jpa 將整個資料夾下載下來，並將下載下來的資料夾放到自己的 Google Drive（注意：上傳到自己 Google Drive 的是資料夾 hw1-regression，而非壓縮檔） -->\n",
        "\n",
        "\n",
        "若有任何問題，歡迎來信至助教信箱 ntu-ml-2020spring-ta@googlegroups.com"
      ]
    },
    {
      "cell_type": "markdown",
      "metadata": {
        "id": "U7RiAkkjCc6l"
      },
      "source": [
        "# **Load 'train.csv'**\n",
        "train.csv 的資料為 12 個月中，每個月取 20 天，每天 24 小時的資料(每小時資料有 18 個 features)。"
      ]
    },
    {
      "cell_type": "code",
      "metadata": {
        "id": "1AfNX-hB3kN8",
        "colab": {
          "base_uri": "https://localhost:8080/"
        },
        "outputId": "da793cc5-8bd1-4520-83ec-b90393aae4c7"
      },
      "source": [
        "import sys\n",
        "import pandas as pd\n",
        "import numpy as np\n",
        "import matplotlib.pyplot as plt\n",
        "from google.colab import drive \n",
        "!gdown --id '1wNKAxQ29G15kgpBy_asjTcZRRgmsCZRm' --output data.zip\n",
        "!unzip data.zip\n",
        "# data = pd.read_csv('gdrive/My Drive/hw1-regression/train.csv', header = None, encoding = 'big5')\n",
        "data = pd.read_csv('./train.csv', encoding = 'big5')"
      ],
      "execution_count": 2,
      "outputs": [
        {
          "output_type": "stream",
          "text": [
            "Permission denied: https://drive.google.com/uc?id=1wNKAxQ29G15kgpBy_asjTcZRRgmsCZRm\n",
            "Maybe you need to change permission over 'Anyone with the link'?\n",
            "unzip:  cannot find or open data.zip, data.zip.zip or data.zip.ZIP.\n"
          ],
          "name": "stdout"
        }
      ]
    },
    {
      "cell_type": "code",
      "metadata": {
        "id": "Zp-nzd0-FaP9"
      },
      "source": [
        "data = pd.read_csv('./train.csv', encoding = 'big5')"
      ],
      "execution_count": 3,
      "outputs": []
    },
    {
      "cell_type": "markdown",
      "metadata": {
        "id": "gqUdj00pDTpo"
      },
      "source": [
        "# **Preprocessing** \n",
        "取需要的數值部分，將 'RAINFALL' 欄位全部補 0。\n",
        "另外，如果要在 colab 重覆這段程式碼的執行，請從頭開始執行(把上面的都重新跑一次)，以避免跑出不是自己要的結果（若自己寫程式不會遇到，但 colab 重複跑這段會一直往下取資料。意即第一次取原本資料的第三欄之後的資料，第二次取第一次取的資料掉三欄之後的資料，...）。"
      ]
    },
    {
      "cell_type": "code",
      "metadata": {
        "id": "AIGP7XUYD_Yb"
      },
      "source": [
        "data = data.iloc[:, 3:]\n",
        "data[data == 'NR'] = 0\n",
        "raw_data = data.to_numpy()"
      ],
      "execution_count": 4,
      "outputs": []
    },
    {
      "cell_type": "markdown",
      "metadata": {
        "id": "V7PCrVwX6jBF"
      },
      "source": [
        "# **Extract Features (1)**\n",
        "![圖片說明](https://drive.google.com/uc?id=1LyaqD4ojX07oe5oDzPO99l9ts5NRyArH)\n",
        "![圖片說明](https://drive.google.com/uc?id=1ZroBarcnlsr85gibeqEF-MtY13xJTG47)\n",
        "\n",
        "將原始 4320 * 18 的資料依照每個月分重組成 12 個 18 (features) * 480 (hours) 的資料。 "
      ]
    },
    {
      "cell_type": "code",
      "metadata": {
        "id": "HBnrGYXu9dZQ"
      },
      "source": [
        "month_data = {}\n",
        "for month in range(12):\n",
        "    sample = np.empty([18, 480]) # 18 datas each day\n",
        "    for day in range(20): # only 20 days per months\n",
        "        # 24 hours\n",
        "        sample[:, day * 24 : (day + 1) * 24] = raw_data[18 * (20 * month + day) : 18 * (20 * month + day + 1), :]\n",
        "    month_data[month] = sample"
      ],
      "execution_count": 5,
      "outputs": []
    },
    {
      "cell_type": "markdown",
      "metadata": {
        "id": "WhVmtFEQ9D6t"
      },
      "source": [
        "# **Extract Features (2)**\n",
        "![alt text](https://drive.google.com/uc?id=1wKoPuaRHoX682LMiBgIoOP4PDyNKsJLK)\n",
        "![alt text](https://drive.google.com/uc?id=1FRWWiXQ-Qh0i9tyx0LiugHYF_xDdkhLN)\n",
        "\n",
        "每個月會有 480hrs，每 9 小時形成一個 data，每個月會有 471 個 data，故總資料數為 471 * 12 筆，而每筆 data 有 9 * 18 的 features (一小時 18 個 features * 9 小時)。\n",
        "\n",
        "對應的 target 則有 471 * 12 個(第 10 個小時的 PM2.5)"
      ]
    },
    {
      "cell_type": "code",
      "metadata": {
        "id": "dcOrC4Fi-n3i",
        "colab": {
          "base_uri": "https://localhost:8080/"
        },
        "outputId": "ce285a7b-b6d5-4e6b-8114-8216ca6331c6"
      },
      "source": [
        "x = np.empty([12 * 471, 18 * 9], dtype = float)\n",
        "y = np.empty([12 * 471, 1], dtype = float)\n",
        "for month in range(12):\n",
        "    for day in range(20):\n",
        "        for hour in range(24):\n",
        "            if day == 19 and hour > 14: #20days:0-19, 24hours:0-23, only support 471 index = 19*24 + 24-9\n",
        "                continue\n",
        "            x[month * 471 + day * 24 + hour, :] = month_data[month][:,day * 24 + hour : day * 24 + hour + 9].reshape(1, -1) #vector dim:18*9 (9 9 9 9 9 9 9 9 9 9 9 9 9 9 9 9 9 9)\n",
        "            y[month * 471 + day * 24 + hour, 0] = month_data[month][9, day * 24 + hour + 9] #value 9th is PM2.5 in features\n",
        "print(x) #5652x162\n",
        "print(y) #5652x1"
      ],
      "execution_count": 6,
      "outputs": [
        {
          "output_type": "stream",
          "text": [
            "[[14.  14.  14.  ...  2.   2.   0.5]\n",
            " [14.  14.  13.  ...  2.   0.5  0.3]\n",
            " [14.  13.  12.  ...  0.5  0.3  0.8]\n",
            " ...\n",
            " [17.  18.  19.  ...  1.1  1.4  1.3]\n",
            " [18.  19.  18.  ...  1.4  1.3  1.6]\n",
            " [19.  18.  17.  ...  1.3  1.6  1.8]]\n",
            "[[30.]\n",
            " [41.]\n",
            " [44.]\n",
            " ...\n",
            " [17.]\n",
            " [24.]\n",
            " [29.]]\n"
          ],
          "name": "stdout"
        }
      ]
    },
    {
      "cell_type": "markdown",
      "metadata": {
        "id": "1wOii0TX8IwE"
      },
      "source": [
        "# **Normalize (1)**\n"
      ]
    },
    {
      "cell_type": "code",
      "metadata": {
        "id": "ceMqFoNI8ftQ",
        "colab": {
          "base_uri": "https://localhost:8080/"
        },
        "outputId": "69266bf4-ee3c-4e2d-c1ed-de355ace915f"
      },
      "source": [
        "mean_x = np.mean(x, axis = 0) #18 * 9 \n",
        "std_x = np.std(x, axis = 0) #18 * 9 \n",
        "for i in range(len(x)): #12 * 471\n",
        "    for j in range(len(x[0])): #18 * 9 \n",
        "        if std_x[j] != 0:\n",
        "            x[i][j] = (x[i][j] - mean_x[j]) / std_x[j]\n",
        "x"
      ],
      "execution_count": 7,
      "outputs": [
        {
          "output_type": "execute_result",
          "data": {
            "text/plain": [
              "array([[-1.35825331, -1.35883937, -1.359222  , ...,  0.26650729,\n",
              "         0.2656797 , -1.14082131],\n",
              "       [-1.35825331, -1.35883937, -1.51819928, ...,  0.26650729,\n",
              "        -1.13963133, -1.32832904],\n",
              "       [-1.35825331, -1.51789368, -1.67717656, ..., -1.13923451,\n",
              "        -1.32700613, -0.85955971],\n",
              "       ...,\n",
              "       [-0.88092053, -0.72262212, -0.56433559, ..., -0.57693779,\n",
              "        -0.29644471, -0.39079039],\n",
              "       [-0.7218096 , -0.56356781, -0.72331287, ..., -0.29578943,\n",
              "        -0.39013211, -0.1095288 ],\n",
              "       [-0.56269867, -0.72262212, -0.88229015, ..., -0.38950555,\n",
              "        -0.10906991,  0.07797893]])"
            ]
          },
          "metadata": {
            "tags": []
          },
          "execution_count": 7
        }
      ]
    },
    {
      "cell_type": "markdown",
      "metadata": {
        "id": "NzvXP5Jya64j"
      },
      "source": [
        "#**Split Training Data Into \"train_set\" and \"validation_set\"**\n",
        "這部分是針對作業中 report 的第二題、第三題做的簡單示範，以生成比較中用來訓練的 train_set 和不會被放入訓練、只是用來驗證的 validation_set。"
      ]
    },
    {
      "cell_type": "code",
      "metadata": {
        "id": "asDtkUwv2ITm"
      },
      "source": [
        "def shullfeData(x, y):\n",
        "  index = np.random.permutation(x.shape[0])\n",
        "  x = x[index,:]\n",
        "  y = y[index,:]\n",
        "  x_train_set = x[: math.floor(len(x) * 0.8), :]\n",
        "  y_train_set = y[: math.floor(len(y) * 0.8), :]\n",
        "  x_validation = x[math.floor(len(x) * 0.8): , :]\n",
        "  y_validation = y[math.floor(len(y) * 0.8): , :]\n",
        "  return x_train_set, y_train_set, x_validation, y_validation"
      ],
      "execution_count": 8,
      "outputs": []
    },
    {
      "cell_type": "code",
      "metadata": {
        "id": "feF4XXOQb5SC",
        "colab": {
          "base_uri": "https://localhost:8080/"
        },
        "outputId": "b62a09b9-af62-40dc-8d8d-14610511de81"
      },
      "source": [
        "import math\n",
        "x_train_set = x[: math.floor(len(x) * 0.8), :]\n",
        "y_train_set = y[: math.floor(len(y) * 0.8), :]\n",
        "x_validation = x[math.floor(len(x) * 0.8): , :]\n",
        "y_validation = y[math.floor(len(y) * 0.8): , :]\n",
        "print(x_train_set)\n",
        "print(y_train_set)\n",
        "print(x_validation) #1131x162\n",
        "print(y_validation) #1131x1\n",
        "print(len(x_train_set))\n",
        "print(len(y_train_set))\n",
        "print(len(x_validation))\n",
        "print(len(y_validation))"
      ],
      "execution_count": 9,
      "outputs": [
        {
          "output_type": "stream",
          "text": [
            "[[-1.35825331 -1.35883937 -1.359222   ...  0.26650729  0.2656797\n",
            "  -1.14082131]\n",
            " [-1.35825331 -1.35883937 -1.51819928 ...  0.26650729 -1.13963133\n",
            "  -1.32832904]\n",
            " [-1.35825331 -1.51789368 -1.67717656 ... -1.13923451 -1.32700613\n",
            "  -0.85955971]\n",
            " ...\n",
            " [ 0.86929969  0.70886668  0.38952809 ...  1.39110073  0.2656797\n",
            "  -0.39079039]\n",
            " [ 0.71018876  0.39075806  0.07157353 ...  0.26650729 -0.39013211\n",
            "  -0.39079039]\n",
            " [ 0.3919669   0.07264944  0.07157353 ... -0.38950555 -0.39013211\n",
            "  -0.85955971]]\n",
            "[[30.]\n",
            " [41.]\n",
            " [44.]\n",
            " ...\n",
            " [ 7.]\n",
            " [ 5.]\n",
            " [14.]]\n",
            "[[ 0.07374504  0.07264944  0.07157353 ... -0.38950555 -0.85856912\n",
            "  -0.57829812]\n",
            " [ 0.07374504  0.07264944  0.23055081 ... -0.85808615 -0.57750692\n",
            "   0.54674825]\n",
            " [ 0.07374504  0.23170375  0.23055081 ... -0.57693779  0.54674191\n",
            "  -0.1095288 ]\n",
            " ...\n",
            " [-0.88092053 -0.72262212 -0.56433559 ... -0.57693779 -0.29644471\n",
            "  -0.39079039]\n",
            " [-0.7218096  -0.56356781 -0.72331287 ... -0.29578943 -0.39013211\n",
            "  -0.1095288 ]\n",
            " [-0.56269867 -0.72262212 -0.88229015 ... -0.38950555 -0.10906991\n",
            "   0.07797893]]\n",
            "[[13.]\n",
            " [24.]\n",
            " [22.]\n",
            " ...\n",
            " [17.]\n",
            " [24.]\n",
            " [29.]]\n",
            "4521\n",
            "4521\n",
            "1131\n",
            "1131\n"
          ],
          "name": "stdout"
        }
      ]
    },
    {
      "cell_type": "markdown",
      "metadata": {
        "id": "9NZbQpZkDEVd"
      },
      "source": [
        "# **Check correlation to select feature**\n",
        "* [0,1,2,3,4,5,6,7,8,9,11,12,13,14,15] is the best feature selection"
      ]
    },
    {
      "cell_type": "code",
      "metadata": {
        "id": "v_ESqDJn8Ww8"
      },
      "source": [
        "for i in range(0,18):\n",
        "  corr = np.correlate(x[:,81:90].flatten(), x[:,i*9:i*9+9].flatten())\n",
        "  if corr > 10000 or corr < -10000:\n",
        "    print(str(i) + ':', corr)"
      ],
      "execution_count": null,
      "outputs": []
    },
    {
      "cell_type": "code",
      "metadata": {
        "id": "z-vOaYQ7D2jO",
        "colab": {
          "base_uri": "https://localhost:8080/"
        },
        "outputId": "035f47c3-f7a6-4d60-fff2-07c9c6281686"
      },
      "source": [
        "for i in range(0,18):\n",
        "  corr = np.correlate(x_validation[:,81:90].flatten(), x_validation[:,i*9:i*9+9].flatten())\n",
        "  if abs(corr) > 4000:\n",
        "    print(str(i) + ':', corr)"
      ],
      "execution_count": null,
      "outputs": [
        {
          "output_type": "stream",
          "text": [
            "7: [4454.78038405]\n",
            "8: [7344.92657502]\n",
            "9: [9100.36734441]\n"
          ],
          "name": "stdout"
        }
      ]
    },
    {
      "cell_type": "code",
      "metadata": {
        "id": "KLCF4HG7EeVG"
      },
      "source": [
        "def select_feature(x, y, index):\n",
        "  x_choose = np.empty([x.shape[0], 9*len(index)])\n",
        "  g = 0\n",
        "  for i in index:\n",
        "    x_choose[:,g*9:g*9+9] = x[:, i*9:i*9+9]\n",
        "    g = g+1\n",
        "  y_choose = y\n",
        "  return x_choose, y_choose"
      ],
      "execution_count": 10,
      "outputs": []
    },
    {
      "cell_type": "code",
      "metadata": {
        "id": "d_UpGEEm3cVE"
      },
      "source": [
        "def calCost(x,w,y):\n",
        "  col_size = x.shape[0]\n",
        "  test_x = np.concatenate((np.ones([col_size, 1]), x), axis = 1).astype(float)\n",
        "  y_ = np.dot(test_x, w)\n",
        "  error = np.sum((y - y_)**2)/(2*col_size)\n",
        "  return error"
      ],
      "execution_count": 11,
      "outputs": []
    },
    {
      "cell_type": "code",
      "metadata": {
        "id": "VIgiWuIsMCKF"
      },
      "source": [
        "def selectFeatureNum(x_train_set, y_train_set, x_validation, y_validation, index):\n",
        "  x_train_n, y_train_n = select_feature(x_train_set, y_train_set, index)\n",
        "  x_validation_n, y_validation_n = select_feature(x_validation, y_validation, index)\n",
        "  w, error = calWeightAdagrad(x_train_n, y_train_n, x_validation_n, y_validation_n , 100000, 1.8)\n",
        "  return w, error"
      ],
      "execution_count": 24,
      "outputs": []
    },
    {
      "cell_type": "code",
      "metadata": {
        "id": "8XdZwwZcK8FH"
      },
      "source": [
        "def pltloss(y_loss, x_iter, learning_rate):\n",
        "  plt.plot(x_iter, y_loss, label =  'learning_rate:' + str(learning_rate))\n",
        "  plt.ylabel('Loss')\n",
        "  plt.xlabel('Iteration')"
      ],
      "execution_count": 13,
      "outputs": []
    },
    {
      "cell_type": "code",
      "metadata": {
        "id": "CgkyWNcdd4Fn"
      },
      "source": [
        "# Gradient Descent\n",
        "def calWeightGD(x, y, x_val, y_val, iter_time, learning_rate = 0.005, plot = False):\n",
        "  if learning_rate > 1:\n",
        "    print('learning_rate too large, set to 0.005')\n",
        "    learning_rate = 0.005\n",
        "\n",
        "  dim_col, dim_row = x.shape\n",
        "  w = np.zeros([dim_row+1, 1])\n",
        "  x_train = np.concatenate((np.ones([dim_col, 1]), x), axis = 1).astype(float)\n",
        "\n",
        "  min_error = 1000\n",
        "  early_stop_cnt = 0\n",
        "  if plot == True:\n",
        "    y_loss = list()\n",
        "    x_iter = list()  \n",
        "  for t in range(iter_time):\n",
        "      y_ = np.dot(x_train, w)\n",
        "      loss = calCost(x, w, y)\n",
        "      if t%5000 == 0 and plot == True:\n",
        "        #print('loss:',loss)\n",
        "        x_iter.append(t)\n",
        "        y_loss.append(loss)\n",
        "      gradient = np.dot(x_train.transpose(), y_ - y)/dim_col\n",
        "      w = w - learning_rate * gradient\n",
        "\n",
        "      cost_val = calCost(x_val, w, y_val)\n",
        "      if(cost_val < min_error):\n",
        "        min_error = cost_val\n",
        "        early_stop_cnt = 0\n",
        "      else:\n",
        "        early_stop_cnt +=1\n",
        "\n",
        "      if early_stop_cnt > 200:\n",
        "        print('early stop!!')\n",
        "        break\n",
        "  print('Finished training after {} iter:', t)\n",
        "  if plot == True:\n",
        "    pltloss(y_loss, x_iter, learning_rate)\n",
        "  return w, cost_val"
      ],
      "execution_count": 14,
      "outputs": []
    },
    {
      "cell_type": "code",
      "metadata": {
        "id": "_v_ZgRbZNfBu"
      },
      "source": [
        "# Adagrad\n",
        "def calWeightAdagrad(x, y, x_val, y_val, iter_time, learning_rate, plot = False):\n",
        "  dim_col, dim_row = x.shape\n",
        "  w = np.zeros([dim_row+1, 1])\n",
        "  x_train = np.concatenate((np.ones([dim_col, 1]), x), axis = 1).astype(float)\n",
        "\n",
        "  adagrad = np.zeros([dim_row+1, 1])\n",
        "  eps = 0.0000000001\n",
        "  min_error = 1000\n",
        "  early_stop_cnt = 0\n",
        "  if plot == True:\n",
        "    y_loss = list()\n",
        "    x_iter = list() \n",
        "  for t in range(iter_time):\n",
        "      \n",
        "      loss = np.sum(np.power(np.dot(x_train, w) - y, 2))/dim_col#rmse\n",
        "      if t%100==0 and plot == True:\n",
        "        #print('loss:',loss)\n",
        "        x_iter.append(t)\n",
        "        y_loss.append(loss)\n",
        "\n",
        "      gradient = 2 * np.dot(x_train.transpose(), np.dot(x_train, w) - y)  #dim*1\n",
        "      adagrad += gradient ** 2\n",
        "      w = w - learning_rate * gradient / np.sqrt(adagrad + eps)\n",
        "      cost_val = calCost(x_val, w, y_val)\n",
        "      if(cost_val < min_error):\n",
        "        min_error = cost_val\n",
        "        early_stop_cnt = 0\n",
        "      else:\n",
        "        early_stop_cnt +=1\n",
        "\n",
        "      if early_stop_cnt > 200:\n",
        "        print('early stop!!')\n",
        "        break\n",
        "  print('Finished training after {} iter:', t)\n",
        "  if plot == True:\n",
        "    pltloss(y_loss, x_iter, learning_rate)\n",
        "  return w, cost_val"
      ],
      "execution_count": 15,
      "outputs": []
    },
    {
      "cell_type": "code",
      "metadata": {
        "id": "pDVAYXb3MZkt",
        "colab": {
          "base_uri": "https://localhost:8080/",
          "height": 330
        },
        "outputId": "957d4df7-5af1-4e0c-edbe-6c7a9241780d"
      },
      "source": [
        "w, error = calWeightGD(x_train_set, y_train_set, x_validation, y_validation , 50000, 0.01, True)\n",
        "error"
      ],
      "execution_count": null,
      "outputs": [
        {
          "output_type": "stream",
          "text": [
            "early stop!!\n",
            "Finished training after {} iter: 12773\n"
          ],
          "name": "stdout"
        },
        {
          "output_type": "execute_result",
          "data": {
            "text/plain": [
              "16.040585942623537"
            ]
          },
          "metadata": {
            "tags": []
          },
          "execution_count": 88
        },
        {
          "output_type": "display_data",
          "data": {
            "image/png": "[encoded data removed]",
            "text/plain": [
              "<Figure size 432x288 with 1 Axes>"
            ]
          },
          "metadata": {
            "tags": [],
            "needs_background": "light"
          }
        }
      ]
    },
    {
      "cell_type": "code",
      "metadata": {
        "id": "JBJXTR5ISlyF",
        "colab": {
          "base_uri": "https://localhost:8080/",
          "height": 330
        },
        "outputId": "175e2161-86dc-4d69-b6be-efcad64ff92b"
      },
      "source": [
        "w, error = calWeightAdagrad(x_train_set, y_train_set, x_validation, y_validation , 50000, 2, True)\n",
        "error"
      ],
      "execution_count": null,
      "outputs": [
        {
          "output_type": "stream",
          "text": [
            "early stop!!\n",
            "Finished training after {} iter: 47029\n"
          ],
          "name": "stdout"
        },
        {
          "output_type": "execute_result",
          "data": {
            "text/plain": [
              "19.238901795751964"
            ]
          },
          "metadata": {
            "tags": []
          },
          "execution_count": 66
        },
        {
          "output_type": "display_data",
          "data": {
            "image/png": "[encoded data removed]",
            "text/plain": [
              "<Figure size 432x288 with 1 Axes>"
            ]
          },
          "metadata": {
            "tags": [],
            "needs_background": "light"
          }
        }
      ]
    },
    {
      "cell_type": "markdown",
      "metadata": {
        "id": "oznbzuWvMfgJ"
      },
      "source": [
        "* **18 features**\n",
        "* 18"
      ]
    },
    {
      "cell_type": "code",
      "metadata": {
        "colab": {
          "base_uri": "https://localhost:8080/",
          "height": 636
        },
        "id": "U-9kClEU2eKd",
        "outputId": "ce70dc5d-74e7-4eec-b9f9-ef0a44f70abc"
      },
      "source": [
        "error_val = []\n",
        "for i in range(10):\n",
        "  x_tra, y_tra, x_val, y_val = shullfeData(x, y)\n",
        "  w, error = calWeightAdagrad(x_tra, y_tra, x_val, y_val , 100000, 2, True)\n",
        "  error_val.append(error)\n",
        "np.mean(error_val, axis = 0)"
      ],
      "execution_count": null,
      "outputs": [
        {
          "output_type": "stream",
          "text": [
            "early stop!!\n",
            "Finished training after {} iter: 5366\n",
            "early stop!!\n",
            "Finished training after {} iter: 9752\n",
            "early stop!!\n",
            "Finished training after {} iter: 3580\n",
            "early stop!!\n",
            "Finished training after {} iter: 4028\n",
            "early stop!!\n",
            "Finished training after {} iter: 2778\n",
            "early stop!!\n",
            "Finished training after {} iter: 10770\n",
            "early stop!!\n",
            "Finished training after {} iter: 4630\n",
            "early stop!!\n",
            "Finished training after {} iter: 10862\n",
            "early stop!!\n",
            "Finished training after {} iter: 4042\n",
            "early stop!!\n",
            "Finished training after {} iter: 5018\n"
          ],
          "name": "stdout"
        },
        {
          "output_type": "execute_result",
          "data": {
            "text/plain": [
              "18.061341344939116"
            ]
          },
          "metadata": {
            "tags": []
          },
          "execution_count": 81
        },
        {
          "output_type": "display_data",
          "data": {
            "image/png": "[encoded data removed]",
            "text/plain": [
              "<Figure size 432x288 with 1 Axes>"
            ]
          },
          "metadata": {
            "tags": [],
            "needs_background": "light"
          }
        }
      ]
    },
    {
      "cell_type": "markdown",
      "metadata": {
        "id": "Smo8NjbUNmtq"
      },
      "source": [
        "* **16 features**\n",
        "* 17"
      ]
    },
    {
      "cell_type": "code",
      "metadata": {
        "id": "2Es7zUNmNh96"
      },
      "source": [
        "index = [0,1,2,3,4,5,6,7,8,9,11,12,13,14,15,17]\n",
        "error_val = []\n",
        "for i in range(10):\n",
        "  x_tra, y_tra, x_val, y_val = shullfeData(x, y)\n",
        "  w, error = selectFeatureNum(x_tra, y_tra, x_val, y_val, index)\n",
        "  error_val.append(error)\n",
        "np.mean(error_val, axis = 0)"
      ],
      "execution_count": null,
      "outputs": []
    },
    {
      "cell_type": "markdown",
      "metadata": {
        "id": "fqSzOmuUMsjR"
      },
      "source": [
        "* **14 Features**\n",
        "17.23"
      ]
    },
    {
      "cell_type": "code",
      "metadata": {
        "colab": {
          "base_uri": "https://localhost:8080/"
        },
        "id": "yCxQ9cA_FGmO",
        "outputId": "74d11db5-5143-4918-87a5-2bd827ef3a4f"
      },
      "source": [
        "index = [0,1,2,3,5,6,7,8,9,11,12,13,14,15]\n",
        "error_val = []\n",
        "for i in range(10):\n",
        "  x_tra, y_tra, x_val, y_val = shullfeData(x, y)\n",
        "  w, error = selectFeatureNum(x_tra, y_tra, x_val, y_val, index)\n",
        "  error_val.append(error)\n",
        "np.mean(error_val, axis = 0)"
      ],
      "execution_count": null,
      "outputs": [
        {
          "output_type": "stream",
          "text": [
            "early stop!!\n",
            "Finished training after {} iter: 5273\n",
            "early stop!!\n",
            "Finished training after {} iter: 4678\n",
            "early stop!!\n",
            "Finished training after {} iter: 8596\n",
            "early stop!!\n",
            "Finished training after {} iter: 5209\n",
            "early stop!!\n",
            "Finished training after {} iter: 8542\n",
            "early stop!!\n",
            "Finished training after {} iter: 2993\n",
            "early stop!!\n",
            "Finished training after {} iter: 1318\n",
            "Finished training after {} iter: 99999\n",
            "early stop!!\n",
            "Finished training after {} iter: 6899\n",
            "early stop!!\n",
            "Finished training after {} iter: 2697\n"
          ],
          "name": "stdout"
        },
        {
          "output_type": "execute_result",
          "data": {
            "text/plain": [
              "17.235012076074746"
            ]
          },
          "metadata": {
            "tags": []
          },
          "execution_count": 84
        }
      ]
    },
    {
      "cell_type": "markdown",
      "metadata": {
        "id": "9XMA_TAGNMdq"
      },
      "source": [
        "* **13 features**\n",
        "17.26"
      ]
    },
    {
      "cell_type": "code",
      "metadata": {
        "colab": {
          "base_uri": "https://localhost:8080/"
        },
        "id": "RRqgu2YcM89F",
        "outputId": "d3c2382f-8367-48be-aca9-85e819fdbf8a"
      },
      "source": [
        "index = [0,1,3,5,6,7,8,9,11,12,13,14,15]\n",
        "error_val = []\n",
        "for i in range(15):\n",
        "  x_tra, y_tra, x_val, y_val = shullfeData(x, y)\n",
        "  w, error = selectFeatureNum(x_tra, y_tra, x_val, y_val, index)\n",
        "  error_val.append(error)\n",
        "np.mean(error_val, axis = 0)"
      ],
      "execution_count": null,
      "outputs": [
        {
          "output_type": "stream",
          "text": [
            "early stop!!\n",
            "Finished training after {} iter: 2341\n",
            "early stop!!\n",
            "Finished training after {} iter: 10595\n",
            "early stop!!\n",
            "Finished training after {} iter: 12220\n",
            "early stop!!\n",
            "Finished training after {} iter: 2290\n",
            "early stop!!\n",
            "Finished training after {} iter: 7343\n",
            "early stop!!\n",
            "Finished training after {} iter: 3689\n",
            "early stop!!\n",
            "Finished training after {} iter: 2416\n",
            "early stop!!\n",
            "Finished training after {} iter: 1481\n",
            "early stop!!\n",
            "Finished training after {} iter: 2230\n",
            "early stop!!\n",
            "Finished training after {} iter: 6073\n",
            "early stop!!\n",
            "Finished training after {} iter: 86628\n",
            "early stop!!\n",
            "Finished training after {} iter: 2359\n",
            "early stop!!\n",
            "Finished training after {} iter: 4655\n",
            "early stop!!\n",
            "Finished training after {} iter: 5050\n",
            "early stop!!\n",
            "Finished training after {} iter: 2433\n"
          ],
          "name": "stdout"
        },
        {
          "output_type": "execute_result",
          "data": {
            "text/plain": [
              "17.260900479846548"
            ]
          },
          "metadata": {
            "tags": []
          },
          "execution_count": 99
        }
      ]
    },
    {
      "cell_type": "markdown",
      "metadata": {
        "id": "xbJMcYp-Kt2o"
      },
      "source": [
        "* **11 features**\n",
        "17.17"
      ]
    },
    {
      "cell_type": "code",
      "metadata": {
        "colab": {
          "base_uri": "https://localhost:8080/"
        },
        "id": "9uG8MESsKtaP",
        "outputId": "3d34cba9-06ae-45bf-ed85-d296b76f9ac7"
      },
      "source": [
        "index = [1,5,6,7,8,9,11,12,13,14,15]\n",
        "error_val = []\n",
        "for i in range(10):\n",
        "  x_tra, y_tra, x_val, y_val = shullfeData(x, y)\n",
        "  w, error = selectFeatureNum(x_tra, y_tra, x_val, y_val, index)\n",
        "  error_val.append(error)\n",
        "np.mean(error_val, axis = 0)"
      ],
      "execution_count": null,
      "outputs": [
        {
          "output_type": "stream",
          "text": [
            "early stop!!\n",
            "Finished training after {} iter: 9278\n",
            "early stop!!\n",
            "Finished training after {} iter: 6288\n",
            "early stop!!\n",
            "Finished training after {} iter: 3886\n",
            "early stop!!\n",
            "Finished training after {} iter: 11302\n",
            "early stop!!\n",
            "Finished training after {} iter: 4402\n",
            "early stop!!\n",
            "Finished training after {} iter: 9817\n",
            "early stop!!\n",
            "Finished training after {} iter: 2913\n",
            "early stop!!\n",
            "Finished training after {} iter: 5004\n",
            "early stop!!\n",
            "Finished training after {} iter: 4306\n",
            "early stop!!\n",
            "Finished training after {} iter: 9871\n"
          ],
          "name": "stdout"
        },
        {
          "output_type": "execute_result",
          "data": {
            "text/plain": [
              "17.17007243388966"
            ]
          },
          "metadata": {
            "tags": []
          },
          "execution_count": 92
        }
      ]
    },
    {
      "cell_type": "markdown",
      "metadata": {
        "id": "BhUpietdU_q_"
      },
      "source": [
        "* **8 Features**\n",
        "17.28"
      ]
    },
    {
      "cell_type": "code",
      "metadata": {
        "colab": {
          "base_uri": "https://localhost:8080/"
        },
        "id": "DhgEsMy6U_RJ",
        "outputId": "598e4098-4b3f-4bf4-8afe-8e83edbb6ee9"
      },
      "source": [
        "index = [1,5,7,8,9,12,13,14]\n",
        "error_val = []\n",
        "for i in range(10):\n",
        "  x_tra, y_tra, x_val, y_val = shullfeData(x, y)\n",
        "  w, error = selectFeatureNum(x_tra, y_tra, x_val, y_val, index)\n",
        "  error_val.append(error)\n",
        "np.mean(error_val, axis = 0)"
      ],
      "execution_count": null,
      "outputs": [
        {
          "output_type": "stream",
          "text": [
            "early stop!!\n",
            "Finished training after {} iter: 4590\n",
            "early stop!!\n",
            "Finished training after {} iter: 10795\n",
            "early stop!!\n",
            "Finished training after {} iter: 40321\n",
            "early stop!!\n",
            "Finished training after {} iter: 1526\n",
            "early stop!!\n",
            "Finished training after {} iter: 3671\n",
            "early stop!!\n",
            "Finished training after {} iter: 2166\n",
            "early stop!!\n",
            "Finished training after {} iter: 5533\n",
            "early stop!!\n",
            "Finished training after {} iter: 5476\n",
            "early stop!!\n",
            "Finished training after {} iter: 40069\n",
            "early stop!!\n",
            "Finished training after {} iter: 14500\n"
          ],
          "name": "stdout"
        },
        {
          "output_type": "execute_result",
          "data": {
            "text/plain": [
              "17.288383810533993"
            ]
          },
          "metadata": {
            "tags": []
          },
          "execution_count": 93
        }
      ]
    },
    {
      "cell_type": "markdown",
      "metadata": {
        "id": "4Sv6vsiTLlxM"
      },
      "source": [
        "* **7 Features**\n",
        "17.54"
      ]
    },
    {
      "cell_type": "code",
      "metadata": {
        "colab": {
          "base_uri": "https://localhost:8080/"
        },
        "id": "lHHDS0WWLlBL",
        "outputId": "2dd675aa-f8b7-4396-8671-73ca762e57a5"
      },
      "source": [
        "index = [1,5,7,8,9,12,13]\n",
        "error_val = []\n",
        "for i in range(15):\n",
        "  x_tra, y_tra, x_val, y_val = shullfeData(x, y)\n",
        "  w, error = selectFeatureNum(x_tra, y_tra, x_val, y_val, index)\n",
        "  error_val.append(error)\n",
        "np.mean(error_val, axis = 0)"
      ],
      "execution_count": null,
      "outputs": [
        {
          "output_type": "stream",
          "text": [
            "early stop!!\n",
            "Finished training after {} iter: 3481\n",
            "early stop!!\n",
            "Finished training after {} iter: 2557\n",
            "early stop!!\n",
            "Finished training after {} iter: 2069\n",
            "early stop!!\n",
            "Finished training after {} iter: 3649\n",
            "early stop!!\n",
            "Finished training after {} iter: 2399\n",
            "early stop!!\n",
            "Finished training after {} iter: 4128\n",
            "early stop!!\n",
            "Finished training after {} iter: 1039\n",
            "early stop!!\n",
            "Finished training after {} iter: 5077\n",
            "early stop!!\n",
            "Finished training after {} iter: 41804\n",
            "early stop!!\n",
            "Finished training after {} iter: 1768\n",
            "early stop!!\n",
            "Finished training after {} iter: 3134\n",
            "early stop!!\n",
            "Finished training after {} iter: 4582\n",
            "early stop!!\n",
            "Finished training after {} iter: 37664\n",
            "early stop!!\n",
            "Finished training after {} iter: 3760\n",
            "early stop!!\n",
            "Finished training after {} iter: 3698\n"
          ],
          "name": "stdout"
        },
        {
          "output_type": "execute_result",
          "data": {
            "text/plain": [
              "17.549814295451483"
            ]
          },
          "metadata": {
            "tags": []
          },
          "execution_count": 100
        }
      ]
    },
    {
      "cell_type": "markdown",
      "metadata": {
        "id": "mSb5ugeJN_vm"
      },
      "source": [
        "* **6 Features**\n",
        "16.42 <= Best"
      ]
    },
    {
      "cell_type": "code",
      "metadata": {
        "colab": {
          "base_uri": "https://localhost:8080/"
        },
        "id": "vQHwtObJNwh9",
        "outputId": "43f7dab4-b400-4281-a016-a9c67f7792bb"
      },
      "source": [
        "index = [5,7,8,9,12,13]\n",
        "error_val = []\n",
        "w_val = []\n",
        "for i in range(15):\n",
        "  x_tra, y_tra, x_val, y_val = shullfeData(x, y)\n",
        "  w, error = selectFeatureNum(x_tra, y_tra, x_val, y_val, index)\n",
        "  w_val.append(w)\n",
        "  error_val.append(error)\n",
        "error_val = np.mean(error_val, axis = 0)\n",
        "w_val = np.mean(w_val, axis = 0)\n",
        "error_val"
      ],
      "execution_count": 25,
      "outputs": [
        {
          "output_type": "stream",
          "text": [
            "early stop!!\n",
            "Finished training after {} iter: 3663\n",
            "early stop!!\n",
            "Finished training after {} iter: 1471\n",
            "early stop!!\n",
            "Finished training after {} iter: 2129\n",
            "early stop!!\n",
            "Finished training after {} iter: 3440\n",
            "early stop!!\n",
            "Finished training after {} iter: 37666\n",
            "early stop!!\n",
            "Finished training after {} iter: 37094\n",
            "early stop!!\n",
            "Finished training after {} iter: 2495\n",
            "early stop!!\n",
            "Finished training after {} iter: 7740\n",
            "early stop!!\n",
            "Finished training after {} iter: 3010\n",
            "early stop!!\n",
            "Finished training after {} iter: 37351\n",
            "early stop!!\n",
            "Finished training after {} iter: 35173\n",
            "early stop!!\n",
            "Finished training after {} iter: 34449\n",
            "early stop!!\n",
            "Finished training after {} iter: 4925\n",
            "early stop!!\n",
            "Finished training after {} iter: 4872\n",
            "early stop!!\n",
            "Finished training after {} iter: 2166\n"
          ],
          "name": "stdout"
        },
        {
          "output_type": "execute_result",
          "data": {
            "text/plain": [
              "17.040771665040797"
            ]
          },
          "metadata": {
            "tags": []
          },
          "execution_count": 25
        }
      ]
    },
    {
      "cell_type": "markdown",
      "metadata": {
        "id": "0RcWd8t1NxIF"
      },
      "source": [
        "* **5 Features**\n",
        "17.35"
      ]
    },
    {
      "cell_type": "code",
      "metadata": {
        "colab": {
          "base_uri": "https://localhost:8080/"
        },
        "id": "a5249fADNop2",
        "outputId": "c05ebc8c-6d9f-4b37-c728-90f332394349"
      },
      "source": [
        "index = [5,7,8,9,13]\n",
        "error_val = []\n",
        "for i in range(10):\n",
        "  x_tra, y_tra, x_val, y_val = shullfeData(x, y)\n",
        "  w, error = selectFeatureNum(x_tra, y_tra, x_val, y_val, index)\n",
        "  error_val.append(error)\n",
        "np.mean(error_val, axis = 0)"
      ],
      "execution_count": null,
      "outputs": [
        {
          "output_type": "stream",
          "text": [
            "early stop!!\n",
            "Finished training after {} iter: 2214\n",
            "early stop!!\n",
            "Finished training after {} iter: 1698\n",
            "early stop!!\n",
            "Finished training after {} iter: 2030\n",
            "early stop!!\n",
            "Finished training after {} iter: 2758\n",
            "early stop!!\n",
            "Finished training after {} iter: 31877\n",
            "early stop!!\n",
            "Finished training after {} iter: 14537\n",
            "early stop!!\n",
            "Finished training after {} iter: 2614\n",
            "early stop!!\n",
            "Finished training after {} iter: 2039\n",
            "early stop!!\n",
            "Finished training after {} iter: 6313\n",
            "early stop!!\n",
            "Finished training after {} iter: 2248\n"
          ],
          "name": "stdout"
        },
        {
          "output_type": "execute_result",
          "data": {
            "text/plain": [
              "17.35841935553822"
            ]
          },
          "metadata": {
            "tags": []
          },
          "execution_count": 96
        }
      ]
    },
    {
      "cell_type": "markdown",
      "metadata": {
        "id": "I1ZO1LrDNhk9"
      },
      "source": [
        "* **4 Features**\n",
        "18.18"
      ]
    },
    {
      "cell_type": "code",
      "metadata": {
        "colab": {
          "base_uri": "https://localhost:8080/"
        },
        "id": "1T8z6tV5Ne7G",
        "outputId": "9d21b18f-ad76-4282-e8d2-8d71c8ffdc5a"
      },
      "source": [
        "index = [5,7,8,9]\n",
        "error_val = []\n",
        "for i in range(10):\n",
        "  x_tra, y_tra, x_val, y_val = shullfeData(x, y)\n",
        "  w, error = selectFeatureNum(x_tra, y_tra, x_val, y_val, index)\n",
        "  error_val.append(error)\n",
        "np.mean(error_val, axis = 0)"
      ],
      "execution_count": null,
      "outputs": [
        {
          "output_type": "stream",
          "text": [
            "early stop!!\n",
            "Finished training after {} iter: 1236\n",
            "early stop!!\n",
            "Finished training after {} iter: 1174\n",
            "early stop!!\n",
            "Finished training after {} iter: 3627\n",
            "early stop!!\n",
            "Finished training after {} iter: 1873\n",
            "early stop!!\n",
            "Finished training after {} iter: 1181\n",
            "early stop!!\n",
            "Finished training after {} iter: 25936\n",
            "early stop!!\n",
            "Finished training after {} iter: 7402\n",
            "early stop!!\n",
            "Finished training after {} iter: 27731\n",
            "early stop!!\n",
            "Finished training after {} iter: 2625\n",
            "early stop!!\n",
            "Finished training after {} iter: 3988\n"
          ],
          "name": "stdout"
        },
        {
          "output_type": "execute_result",
          "data": {
            "text/plain": [
              "18.199272219648133"
            ]
          },
          "metadata": {
            "tags": []
          },
          "execution_count": 97
        }
      ]
    },
    {
      "cell_type": "markdown",
      "metadata": {
        "id": "4QeyabccY2tT"
      },
      "source": [
        "* **Only PM2.5**\n",
        "19."
      ]
    },
    {
      "cell_type": "code",
      "metadata": {
        "colab": {
          "base_uri": "https://localhost:8080/"
        },
        "id": "BU8jVkq7SBXC",
        "outputId": "aa7238e9-7eac-41e2-ffa5-57504fa14260"
      },
      "source": [
        "index = [9]\n",
        "error_val = []\n",
        "for i in range(10):\n",
        "  x_tra, y_tra, x_val, y_val = shullfeData(x, y)\n",
        "  w, error = selectFeatureNum(x_tra, y_tra, x_val, y_val, index)\n",
        "  error_val.append(error)\n",
        "np.mean(error_val, axis = 0)"
      ],
      "execution_count": null,
      "outputs": [
        {
          "output_type": "stream",
          "text": [
            "early stop!!\n",
            "Finished training after {} iter: 531\n",
            "early stop!!\n",
            "Finished training after {} iter: 1060\n",
            "early stop!!\n",
            "Finished training after {} iter: 8900\n",
            "early stop!!\n",
            "Finished training after {} iter: 742\n",
            "early stop!!\n",
            "Finished training after {} iter: 9107\n",
            "early stop!!\n",
            "Finished training after {} iter: 9111\n",
            "early stop!!\n",
            "Finished training after {} iter: 8647\n",
            "early stop!!\n",
            "Finished training after {} iter: 8837\n",
            "early stop!!\n",
            "Finished training after {} iter: 1303\n",
            "early stop!!\n",
            "Finished training after {} iter: 567\n"
          ],
          "name": "stdout"
        },
        {
          "output_type": "execute_result",
          "data": {
            "text/plain": [
              "19.093570296005737"
            ]
          },
          "metadata": {
            "tags": []
          },
          "execution_count": 98
        }
      ]
    },
    {
      "cell_type": "markdown",
      "metadata": {
        "id": "XWbsK1__Zsk0"
      },
      "source": [
        "# **Select Complex Model**"
      ]
    },
    {
      "cell_type": "code",
      "metadata": {
        "id": "tK1hlFwFZUsE"
      },
      "source": [
        "def select_model(x,y,index, pow):\n",
        "  x_choose = np.empty([x.shape[0], 9*len(index)])\n",
        "  g = 0\n",
        "\n",
        "  # xi\n",
        "  for i in index:\n",
        "    x_choose[:,g*9:g*9+9] = x[:, i*9:i*9+9]\n",
        "    g +=1\n",
        "\n",
        "  # xi^2\n",
        "  for i in index:\n",
        "    x_choose = np.append(x_choose, np.power(x[:, i*9:i*9+9], pow), axis = 1)\n",
        "\n",
        "  # xi^2\n",
        "  for i in index:\n",
        "    x_choose = np.append(x_choose, np.power(x[:, i*9:i*9+9], pow+1), axis = 1)\n",
        "\n",
        "  #pm2.5 x9*xi\n",
        "  #for i in index:\n",
        "    #k = np.multiply(x[:, 9*9:9*9+9], x[:, i*9:i*9+9])\n",
        "    #x_choose = np.append(x_choose, k, axis = 1)\n",
        "  y_choose = y\n",
        "  return x_choose, y_choose"
      ],
      "execution_count": null,
      "outputs": []
    },
    {
      "cell_type": "markdown",
      "metadata": {
        "id": "n-ipMlRXVwle"
      },
      "source": [
        "* **18 features**\n",
        "17."
      ]
    },
    {
      "cell_type": "code",
      "metadata": {
        "colab": {
          "base_uri": "https://localhost:8080/"
        },
        "id": "3tEPEcXwHDjD",
        "outputId": "f59741f4-7a41-4d6a-fd9f-3ca680e95207"
      },
      "source": [
        "#index = [5,7,8,9,12,13]\n",
        "index = range(18)\n",
        "w_val = []\n",
        "error_val = []\n",
        "for i in range(1):\n",
        "  x_tra, y_tra, x_val, y_val = shullfeData(x, y)\n",
        "  x_train_n, y_train_n = select_model(x_tra, y_tra, index, 2)\n",
        "  x_val_n, y_val_n = select_model(x_val, y_val, index, 2)\n",
        "  w, error = calWeightAdagrad(x_train_n, y_train_n, x_val_n, y_val_n, 120000, 1)\n",
        "  w_val.append(w)\n",
        "  error_val.append(error)\n",
        "error_val = np.mean(error_val, axis = 0)\n",
        "w_val = np.mean(w_val, axis = 0)\n",
        "error_val"
      ],
      "execution_count": null,
      "outputs": [
        {
          "output_type": "stream",
          "text": [
            "Finished training after {} iter: 119999\n"
          ],
          "name": "stdout"
        },
        {
          "output_type": "execute_result",
          "data": {
            "text/plain": [
              "21.908663342016787"
            ]
          },
          "metadata": {
            "tags": []
          },
          "execution_count": 129
        }
      ]
    },
    {
      "cell_type": "markdown",
      "metadata": {
        "id": "G0xRoir5eSGJ"
      },
      "source": [
        "* **Only pm2.5**\n",
        "* 17.34"
      ]
    },
    {
      "cell_type": "code",
      "metadata": {
        "colab": {
          "base_uri": "https://localhost:8080/"
        },
        "id": "k5YkdeUZdNRc",
        "outputId": "d600e64e-b02f-42d6-97ad-ce60d2179360"
      },
      "source": [
        "x_train_n, y_train_n = select_model(x_train_set, y_train_set, [9], 2)\n",
        "x_val_n, y_val_n = select_model(x_validation, y_validation, [9], 2)\n",
        "w_p, error = calWeightAdagrad(x_train_n, y_train_n, x_val_n, y_val_n, 40000, 2)\n",
        "error"
      ],
      "execution_count": null,
      "outputs": [
        {
          "output_type": "stream",
          "text": [
            "early stop!!\n",
            "Finished training after {} iter: 33065\n"
          ],
          "name": "stdout"
        },
        {
          "output_type": "execute_result",
          "data": {
            "text/plain": [
              "17.341780769293017"
            ]
          },
          "metadata": {
            "tags": []
          },
          "execution_count": 133
        }
      ]
    },
    {
      "cell_type": "markdown",
      "metadata": {
        "id": "c85XoeADaiQs"
      },
      "source": [
        "* **power 3** <= Not very good\n",
        "* 16.6"
      ]
    },
    {
      "cell_type": "code",
      "metadata": {
        "id": "CH_YP7jyZ2WJ",
        "colab": {
          "base_uri": "https://localhost:8080/"
        },
        "outputId": "af61044e-14bc-4aa1-c082-19712bf22c48"
      },
      "source": [
        "index = [1,5,7,8,9,12,13]\n",
        "pow = 3\n",
        "x_train_n, y_train_n = select_model(x_train_set, y_train_set, index, pow)\n",
        "x_val_n, y_val_n = select_model(x_validation, y_validation, index, pow)\n",
        "w_p, error = calWeightAdagrad(x_train_n, y_train_n, x_val_n, y_val_n, 40000, 2)\n",
        "error"
      ],
      "execution_count": null,
      "outputs": [
        {
          "output_type": "stream",
          "text": [
            "early stop!!\n",
            "Finished training after {} iter: 27665\n"
          ],
          "name": "stdout"
        },
        {
          "output_type": "execute_result",
          "data": {
            "text/plain": [
              "17.040375076097074"
            ]
          },
          "metadata": {
            "tags": []
          },
          "execution_count": 136
        }
      ]
    },
    {
      "cell_type": "markdown",
      "metadata": {
        "id": "An6kvvYUapw2"
      },
      "source": [
        "* **power 2**\n",
        "* 16.41"
      ]
    },
    {
      "cell_type": "code",
      "metadata": {
        "colab": {
          "base_uri": "https://localhost:8080/"
        },
        "id": "CHPleYicas0-",
        "outputId": "ba32d7be-b411-4197-8bc8-a6eb40b3d4e8"
      },
      "source": [
        "index = [1,5,7,8,9,12,13]\n",
        "pow = 2\n",
        "x_train_n, y_train_n = select_model(x_train_set, y_train_set, index, pow)\n",
        "x_validation_n, y_validation_n = select_model(x_validation, y_validation, index, pow)\n",
        "w_7f_p2, error = calWeight(x_train_n, y_train_n, x_validation_n, y_validation_n , 20000, 2)\n",
        "error"
      ],
      "execution_count": null,
      "outputs": [
        {
          "output_type": "stream",
          "text": [
            "early stop!!\n",
            "Finished training after {} iter: 12900\n"
          ],
          "name": "stdout"
        },
        {
          "output_type": "execute_result",
          "data": {
            "text/plain": [
              "16.410347150456058"
            ]
          },
          "metadata": {
            "tags": []
          },
          "execution_count": 74
        }
      ]
    },
    {
      "cell_type": "markdown",
      "metadata": {
        "id": "qlNFXvTqI8eb"
      },
      "source": [
        "* **power 2, 4 features**\n",
        "* 16.16"
      ]
    },
    {
      "cell_type": "code",
      "metadata": {
        "id": "G_xwifkuIBmZ",
        "colab": {
          "base_uri": "https://localhost:8080/"
        },
        "outputId": "ec795e53-69bb-4d7a-9bec-3ea51baab1fc"
      },
      "source": [
        "index = [5,7,8,9]\n",
        "pow = 2\n",
        "x_train_n, y_train_n = select_model(x_train_set, y_train_set, index, pow)\n",
        "x_validation_n, y_validation_n = select_model(x_validation, y_validation, index, pow)\n",
        "w_4f_p2, error = calWeight(x_train_n, y_train_n, x_validation_n, y_validation_n, 20000, 2)\n",
        "error"
      ],
      "execution_count": null,
      "outputs": [
        {
          "output_type": "stream",
          "text": [
            "early stop!!\n",
            "Finished training after {} iter: 5056\n"
          ],
          "name": "stdout"
        },
        {
          "output_type": "execute_result",
          "data": {
            "text/plain": [
              "16.044871409387746"
            ]
          },
          "metadata": {
            "tags": []
          },
          "execution_count": 60
        }
      ]
    },
    {
      "cell_type": "markdown",
      "metadata": {
        "id": "Q-qAu0KR_ZRR"
      },
      "source": [
        "# **Training**\n",
        "![alt text](https://drive.google.com/uc?id=1xIXvqZ4EGgmxrp7c9r0LOVbcvd4d9H4N)\n",
        "![alt text](https://drive.google.com/uc?id=1S42g06ON5oJlV2f9RukxawjbE4NpsaB6)\n",
        "![alt text](https://drive.google.com/uc?id=1BbXu-oPB9EZBHDQ12YCkYqtyAIil3bGj)\n",
        "\n",
        "(和上圖不同處: 下面的 code 採用 Root Mean Square Error)\n",
        "\n",
        "因為常數項的存在，所以 dimension (dim) 需要多加一欄；eps 項是避免 adagrad 的分母為 0 而加的極小數值。\n",
        "\n",
        "每一個 dimension (dim) 會對應到各自的 gradient, weight (w)，透過一次次的 iteration (iter_time) 學習。"
      ]
    },
    {
      "cell_type": "code",
      "metadata": {
        "id": "cCzDfxBFBFqp"
      },
      "source": [
        "dim = 18 * 9 + 1\n",
        "w = np.zeros([dim, 1])\n",
        "x_ = np.concatenate((np.ones([12 * 471, 1]), x), axis = 1).astype(float) #5256x162+1\n",
        "learning_rate = 400\n",
        "iter_time = 1000\n",
        "adagrad = np.zeros([dim, 1])\n",
        "eps = 0.0000000001\n",
        "y_loss = list()\n",
        "x_iter = list()\n",
        "for t in range(iter_time):\n",
        "    loss = np.sqrt(np.sum(np.power(np.dot(x_, w) - y, 2))/471/12)#rmse\n",
        "    if(t%500==0):\n",
        "        print(str(t) + \":\" + str(loss))\n",
        "        y_loss.append(loss)\n",
        "        x_iter.append(t)\n",
        "    gradient = 2 * np.dot(x_.transpose(), np.dot(x_, w) - y) #dim*1\n",
        "    adagrad += gradient ** 2\n",
        "    w = w - learning_rate * gradient / np.sqrt(adagrad + eps)\n",
        "np.save('weight.npy', w)\n",
        "w #163x1"
      ],
      "execution_count": null,
      "outputs": []
    },
    {
      "cell_type": "code",
      "metadata": {
        "id": "cdql-kABl6PQ"
      },
      "source": [
        "def calWeight(x, y, iter_time, learning_rate):\n",
        "  dim_col, dim_row = x.shape\n",
        "  w = np.zeros([dim_row+1, 1])\n",
        "  x_ = np.concatenate((np.ones([dim_col, 1]), x), axis = 1).astype(float)\n",
        "  adagrad = np.zeros([dim_row+1, 1])\n",
        "  eps = 0.0000000001\n",
        "  y_loss = list()\n",
        "  x_iter = list()\n",
        "  for t in range(iter_time):\n",
        "      loss = np.sqrt(np.sum(np.power(np.dot(x_, w) - y, 2))/dim_col)#rmse\n",
        "      if(t%5==0):\n",
        "          #print(str(t) + \":\" + str(loss))\n",
        "          y_loss.append(loss)\n",
        "          x_iter.append(t)\n",
        "      gradient = 2 * np.dot(x_.transpose(), np.dot(x_, w) - y) #dim*1\n",
        "      adagrad += gradient ** 2\n",
        "      w = w - learning_rate * gradient / np.sqrt(adagrad + eps)\n",
        "  #np.save('weight.npy', w)\n",
        "  #print('w:',w.shape) #163x1\n",
        "  #pltloss(y_loss,x_iter,learning_rate)\n",
        "  return x_iter, y_loss"
      ],
      "execution_count": null,
      "outputs": []
    },
    {
      "cell_type": "markdown",
      "metadata": {
        "id": "cOLE6ODeBsBl"
      },
      "source": [
        "# Learning Rate"
      ]
    },
    {
      "cell_type": "code",
      "metadata": {
        "colab": {
          "base_uri": "https://localhost:8080/",
          "height": 279
        },
        "id": "GqIIA0Cn9r_-",
        "outputId": "8e32cc51-10c3-4713-92cb-73c59bc59eba"
      },
      "source": [
        "for i in [2,10,50,100]:\n",
        "  x_iter, y_loss = calWeight(x,y, 1000, i)\n",
        "  plt.legend(bbox_to_anchor=(1.05, 1), loc='upper left', borderaxespad=0.)"
      ],
      "execution_count": null,
      "outputs": [
        {
          "output_type": "display_data",
          "data": {
            "image/png": "[encoded data removed]",
            "text/plain": [
              "<Figure size 432x288 with 1 Axes>"
            ]
          },
          "metadata": {
            "tags": [],
            "needs_background": "light"
          }
        }
      ]
    },
    {
      "cell_type": "markdown",
      "metadata": {
        "id": "wlEF-XkLYn-S"
      },
      "source": [
        "# **Regularization**"
      ]
    },
    {
      "cell_type": "code",
      "metadata": {
        "id": "exVeU2lsbExa"
      },
      "source": [
        "x_axis = []\n",
        "y_axis = []\n",
        "for lamb in [0.1, 0.5]:\n",
        "  w,error = calWeight(x_train_set, y_train_set, x_validation, y_validation, 20000, 2, lamb)\n",
        "  print('lambda:'+ str(lamb) +', error:',error)\n",
        "  x_axis.append(lamb)\n",
        "  y_axis.append(error)\n",
        "plt.plot(x_axis,y_axis)\n"
      ],
      "execution_count": null,
      "outputs": []
    },
    {
      "cell_type": "markdown",
      "metadata": {
        "id": "PboVJAtaRFTL"
      },
      "source": [
        "# **9hour v.s. 9*18 hours**\n",
        "\n",
        "---\n",
        "\n",
        "\n",
        "*   18*9 hours better than 9 hours\n",
        "16.35 (all features) > 17.17  (only pm2.5)\n",
        "\n"
      ]
    },
    {
      "cell_type": "markdown",
      "metadata": {
        "id": "SRRHzIZ5VHj7"
      },
      "source": [
        "* **18*9 hours**\n",
        "* 16.35"
      ]
    },
    {
      "cell_type": "code",
      "metadata": {
        "colab": {
          "base_uri": "https://localhost:8080/"
        },
        "id": "TecOgZFoIEV4",
        "outputId": "14b3c8c3-5e44-4e63-b719-c75ac1e07d51"
      },
      "source": [
        "w, cost = calWeightAdagrad(x_train_set, y_train_set, x_validation, y_validation,10000,2)\n",
        "cost"
      ],
      "execution_count": null,
      "outputs": [
        {
          "output_type": "stream",
          "text": [
            "early stop!!\n",
            "Finished training after {} iter: 6138\n"
          ],
          "name": "stdout"
        },
        {
          "output_type": "execute_result",
          "data": {
            "text/plain": [
              "16.043204404583243"
            ]
          },
          "metadata": {
            "tags": []
          },
          "execution_count": 81
        }
      ]
    },
    {
      "cell_type": "markdown",
      "metadata": {
        "id": "rX9HATHQVDmQ"
      },
      "source": [
        "* **9 hour**\n",
        "* 17.17"
      ]
    },
    {
      "cell_type": "code",
      "metadata": {
        "id": "J2_MJMASVBX7",
        "colab": {
          "base_uri": "https://localhost:8080/"
        },
        "outputId": "ba4050e1-ddc2-4a58-a67d-40b1f1e6f544"
      },
      "source": [
        "nine_x = x_train_set[:, 9*9:9*9+9]\n",
        "nine_y = y_train_set\n",
        "nine_x_val = x_validation[:, 9*9:9*9+9]\n",
        "nine_y_val = y_validation\n",
        "w, cost = calWeightAdagrad(nine_x, nine_y, nine_x_val, nine_y_val, 10000, 2)\n",
        "cost"
      ],
      "execution_count": null,
      "outputs": [
        {
          "output_type": "stream",
          "text": [
            "early stop!!\n",
            "Finished training after {} iter: 9200\n"
          ],
          "name": "stdout"
        },
        {
          "output_type": "execute_result",
          "data": {
            "text/plain": [
              "17.176209031072602"
            ]
          },
          "metadata": {
            "tags": []
          },
          "execution_count": 80
        }
      ]
    },
    {
      "cell_type": "markdown",
      "metadata": {
        "id": "geC6lLxJQr-l"
      },
      "source": [
        "# **Checking xth hours is better**\n",
        "\n",
        "---\n",
        "\n"
      ]
    },
    {
      "cell_type": "markdown",
      "metadata": {
        "id": "wM-e9Ko6dHsY"
      },
      "source": [
        "* **x-9hours**\n",
        "* 9 hours is better than just 5 hours (means do not need to select)\n",
        "  "
      ]
    },
    {
      "cell_type": "code",
      "metadata": {
        "id": "xBv_Ga9D7MKS"
      },
      "source": [
        "def xth_hour_select(n, x, y):\n",
        "  row = int(x.shape[1]/9)\n",
        "  x_valid = np.empty([x.shape[0] , row*(9-n+1)], dtype = float)\n",
        "  y_valid = y\n",
        "  for j in range(len(x)):\n",
        "    for i in range(int(x.shape[1]/9)):\n",
        "      x_valid[j, i*(9-n+1):i*(9-n+1)+(9-n+1)] = x[j, i*9+n-1 : i*9+9 ]\n",
        "  print(str(n)+'-9hr x:',x_valid.shape) #1131x90 (18xn)\n",
        "  print(str(n)+'-9hr y:',y_valid.shape)\n",
        "  return x_valid, y_valid"
      ],
      "execution_count": null,
      "outputs": []
    },
    {
      "cell_type": "code",
      "metadata": {
        "id": "TyMA1BDNCd3H"
      },
      "source": [
        "x_train_5, y_train_5 = xth_hour_select(5, x_train_set, y_train_set)\n",
        "x_val_5, y_val_5 = xth_hour_select(5, x_validation, y_validation)\n",
        "x_iter, y_loss = calWeight(x_train_5, y_train_5, 1000, 2)\n",
        "plt.plot(x_iter, y_loss, label='5 hrs')\n",
        "x_iter, y_loss = calWeight(x_train_set, y_train_set, 1000,2)\n",
        "plt.plot(x_iter, y_loss, label='9 hrs')\n",
        "plt.legend(bbox_to_anchor=(1.05, 1), loc='upper left', borderaxespad=0.)\n",
        "plt.ylim([5, 15])"
      ],
      "execution_count": null,
      "outputs": []
    },
    {
      "cell_type": "code",
      "metadata": {
        "colab": {
          "base_uri": "https://localhost:8080/"
        },
        "id": "x7GHYxPCGknH",
        "outputId": "c515cacb-c570-4723-e5d2-1525958f9f24"
      },
      "source": [
        "w, cost = calWeightAdagrad(x_train_5, y_train_5, x_val_5, y_val_5,10000,2)\n",
        "cost"
      ],
      "execution_count": null,
      "outputs": [
        {
          "output_type": "stream",
          "text": [
            "early stop!!\n",
            "Finished training after {} iter: 6532\n"
          ],
          "name": "stdout"
        },
        {
          "output_type": "execute_result",
          "data": {
            "text/plain": [
              "16.100450176300733"
            ]
          },
          "metadata": {
            "tags": []
          },
          "execution_count": 77
        }
      ]
    },
    {
      "cell_type": "code",
      "metadata": {
        "colab": {
          "base_uri": "https://localhost:8080/"
        },
        "id": "6vUoyw65HYF3",
        "outputId": "b6c41b5a-2462-4439-a9db-2062278612e6"
      },
      "source": [
        "w, cost = calWeightAdagrad(x_train_set, y_train_set, x_validation, y_validation,10000,2)\n",
        "cost"
      ],
      "execution_count": null,
      "outputs": [
        {
          "output_type": "stream",
          "text": [
            "early stop!!\n",
            "Finished training after {} iter: 6138\n"
          ],
          "name": "stdout"
        },
        {
          "output_type": "execute_result",
          "data": {
            "text/plain": [
              "16.043204404583243"
            ]
          },
          "metadata": {
            "tags": []
          },
          "execution_count": 78
        }
      ]
    },
    {
      "cell_type": "markdown",
      "metadata": {
        "id": "XCyVgMJb0A-v"
      },
      "source": [
        "# **Combine Feature Selection & Hours Selection**"
      ]
    },
    {
      "cell_type": "markdown",
      "metadata": {
        "id": "QrsUChC6VeMX"
      },
      "source": [
        "* **7 features & 7-9hours**\n",
        "* 18.64999243794835"
      ]
    },
    {
      "cell_type": "code",
      "metadata": {
        "id": "ODOAWWMBVRj4"
      },
      "source": [
        "index = [1,5,7,8,9,12,13]\n",
        "x_train_7, y_train_7 = select_feature(x_train_set, y_train_set, index)\n",
        "x_7f_7h, y_7f_7h = xth_hour_select(7, x_train_7, y_train_7) #7-9 hours\n",
        "w_7f_7h = calWeight(x_7f_7h, y_7f_7h, 5000, 5)\n",
        "x_validation_7, y_validation_7 = select_feature(x_validation, y_validation,index)\n",
        "x_val_7f_7h, y_val_7f_7h = xth_hour_select(7,x_validation_7, y_validation_7)\n",
        "error_7f_7h = calCost(x_val_7f_7h, w_7f_7h, y_val_7f_7h)\n",
        "error_7f_7h"
      ],
      "execution_count": null,
      "outputs": []
    },
    {
      "cell_type": "markdown",
      "metadata": {
        "id": "-frOcCdkY4aQ"
      },
      "source": [
        "* **7 features & 1-9 hours**\n",
        "* **15.629102226937615** <= best"
      ]
    },
    {
      "cell_type": "code",
      "metadata": {
        "id": "cn2Ws86PYzSx"
      },
      "source": [
        "index = [1,5,7,8,9,12,13]\n",
        "x_train_7, y_train_7 = select_feature(x_train_set, y_train_set, index)\n",
        "x_7f_7h, y_7f_7h = xth_hour_select(1, x_train_7, y_train_7) #7-9 hours\n",
        "w_7f_7h = calWeight(x_7f_7h, y_7f_7h, 5000, 5)\n",
        "x_validation_7, y_validation_7 = select_feature(x_validation, y_validation,index)\n",
        "x_val_7f_7h, y_val_7f_7h = xth_hour_select(1,x_validation_7, y_validation_7)\n",
        "error_7f_7h = calCost(x_val_7f_7h, w_7f_7h, y_val_7f_7h)\n",
        "error_7f_7h"
      ],
      "execution_count": null,
      "outputs": []
    },
    {
      "cell_type": "markdown",
      "metadata": {
        "id": "uTnMc8sfRzW_"
      },
      "source": [
        "* **6 features & 6-9hours** \n",
        "* 15.776883276246048\n"
      ]
    },
    {
      "cell_type": "code",
      "metadata": {
        "id": "_G8WAs76RjhL"
      },
      "source": [
        "index = [5,7,8,9,12,13]\n",
        "x_train_6, y_train_6 = select_feature(x_train_set, y_train_set, index)\n",
        "x_6f_6h, y_6f_6h = xth_hour_select(6, x_train_6, y_train_6) #5-9 hours\n",
        "w_6f_6h = calWeight(x_6f_6h, y_6f_6h, 5000, 5)\n",
        "x_validation_6, y_validation_6 = select_feature(x_validation, y_validation,index)\n",
        "x_val_6f_6h, y_val_6f_6h = xth_hour_select(6,x_validation_6, y_validation_6)\n",
        "error_6f_6h = calCost(x_val_6f_6h, w_6f_6h, y_val_6f_6h)\n",
        "error_6f_6h"
      ],
      "execution_count": null,
      "outputs": []
    },
    {
      "cell_type": "markdown",
      "metadata": {
        "id": "AyYW6IVMYp2g"
      },
      "source": [
        "* **6 features & 1-9 hours**\n",
        "*15.646430118735402"
      ]
    },
    {
      "cell_type": "code",
      "metadata": {
        "id": "2rTh05BsYIF0"
      },
      "source": [
        "index = [5,7,8,9,12,13]\n",
        "x_train_6, y_train_6 = select_feature(x_train_set, y_train_set, index)\n",
        "x_6f_6h, y_6f_6h = xth_hour_select(1, x_train_6, y_train_6) #5-9 hours\n",
        "w_6f_6h = calWeight(x_6f_6h, y_6f_6h, 5000, 5)\n",
        "x_validation_6, y_validation_6 = select_feature(x_validation, y_validation,index)\n",
        "x_val_6f_6h, y_val_6f_6h = xth_hour_select(1,x_validation_6, y_validation_6)\n",
        "error_6f_6h = calCost(x_val_6f_6h, w_6f_6h, y_val_6f_6h)\n",
        "error_6f_6h"
      ],
      "execution_count": null,
      "outputs": []
    },
    {
      "cell_type": "markdown",
      "metadata": {
        "id": "ZqNdWKsYBK28"
      },
      "source": [
        "# **Testing**\n",
        "![alt text](https://drive.google.com/uc?id=1165ETzZyE6HStqKvgR0gKrJwgFLK6-CW)\n",
        "\n",
        "載入 test data，並且以相似於訓練資料預先處理和特徵萃取的方式處理，使 test data 形成 240 個維度為 18 * 9 + 1 的資料。"
      ]
    },
    {
      "cell_type": "code",
      "metadata": {
        "id": "AALygqJFCWOA",
        "colab": {
          "base_uri": "https://localhost:8080/"
        },
        "outputId": "6cd60af7-a9ea-441a-9d10-7874dc4481e8"
      },
      "source": [
        "# testdata = pd.read_csv('gdrive/My Drive/hw1-regression/test.csv', header = None, encoding = 'big5')\n",
        "testdata = pd.read_csv('./test.csv', header = None, encoding = 'big5')\n",
        "test_data = testdata.iloc[:, 2:]\n",
        "test_data[test_data == 'NR'] = 0\n",
        "test_data = test_data.to_numpy() #4320x9\n",
        "test_x = np.empty([240, 18*9], dtype = float) #=> 4320/18 = 240\n",
        "for i in range(240):\n",
        "    test_x[i, :] = test_data[18 * i: 18* (i + 1), :].reshape(1, -1)  # i col <= 18x9\n",
        "for i in range(len(test_x)):\n",
        "    for j in range(len(test_x[0])):\n",
        "        if std_x[j] != 0:\n",
        "            test_x[i][j] = (test_x[i][j] - mean_x[j]) / std_x[j]\n",
        "test_x = np.concatenate((np.ones([240, 1]), test_x), axis = 1).astype(float)\n",
        "test_x"
      ],
      "execution_count": null,
      "outputs": [
        {
          "output_type": "stream",
          "text": [
            "/usr/local/lib/python3.7/dist-packages/ipykernel_launcher.py:4: SettingWithCopyWarning: \n",
            "A value is trying to be set on a copy of a slice from a DataFrame.\n",
            "Try using .loc[row_indexer,col_indexer] = value instead\n",
            "\n",
            "See the caveats in the documentation: https://pandas.pydata.org/pandas-docs/stable/user_guide/indexing.html#returning-a-view-versus-a-copy\n",
            "  after removing the cwd from sys.path.\n",
            "/usr/local/lib/python3.7/dist-packages/pandas/core/frame.py:3093: SettingWithCopyWarning: \n",
            "A value is trying to be set on a copy of a slice from a DataFrame\n",
            "\n",
            "See the caveats in the documentation: https://pandas.pydata.org/pandas-docs/stable/user_guide/indexing.html#returning-a-view-versus-a-copy\n",
            "  self._where(-key, value, inplace=True)\n"
          ],
          "name": "stderr"
        },
        {
          "output_type": "execute_result",
          "data": {
            "text/plain": [
              "array([[ 1.        , -0.24447681, -0.24545919, ..., -0.67065391,\n",
              "        -1.04594393,  0.07797893],\n",
              "       [ 1.        , -1.35825331, -1.51789368, ...,  0.17279117,\n",
              "        -0.10906991, -0.48454426],\n",
              "       [ 1.        ,  1.5057434 ,  1.34508393, ..., -1.32666675,\n",
              "        -1.04594393, -0.57829812],\n",
              "       ...,\n",
              "       [ 1.        ,  0.3919669 ,  0.54981237, ...,  0.26650729,\n",
              "        -0.20275731,  1.20302531],\n",
              "       [ 1.        , -1.8355861 , -1.8360023 , ..., -1.04551839,\n",
              "        -1.13963133, -1.14082131],\n",
              "       [ 1.        , -1.35825331, -1.35883937, ...,  2.98427476,\n",
              "         3.26367657,  1.76554849]])"
            ]
          },
          "metadata": {
            "tags": []
          },
          "execution_count": 86
        }
      ]
    },
    {
      "cell_type": "code",
      "metadata": {
        "id": "uXbhPbq2A16U",
        "colab": {
          "base_uri": "https://localhost:8080/"
        },
        "outputId": "a2a3f652-bae4-4b34-ccb8-d37adc22251e"
      },
      "source": [
        "test_x.shape"
      ],
      "execution_count": null,
      "outputs": [
        {
          "output_type": "execute_result",
          "data": {
            "text/plain": [
              "(240, 163)"
            ]
          },
          "metadata": {
            "tags": []
          },
          "execution_count": 62
        }
      ]
    },
    {
      "cell_type": "markdown",
      "metadata": {
        "id": "dJQks9JEHR6W"
      },
      "source": [
        "# **Prediction**\n",
        "說明圖同上\n",
        "\n",
        "![alt text](https://drive.google.com/uc?id=1165ETzZyE6HStqKvgR0gKrJwgFLK6-CW)\n",
        "\n",
        "有了 weight 和測試資料即可預測 target。"
      ]
    },
    {
      "cell_type": "code",
      "metadata": {
        "id": "jNyB229jHsEQ"
      },
      "source": [
        "w = np.load('weight.npy')\n",
        "ans_y = np.dot(test_x, w)\n",
        "ans_y"
      ],
      "execution_count": null,
      "outputs": []
    },
    {
      "cell_type": "code",
      "metadata": {
        "id": "yG6UsjMbtD9i"
      },
      "source": [
        "x_test_n, y_test_n = select_model(test_x, 0, range(0,18), 2)\n",
        "x_test_n = np.concatenate((np.ones([x_test_n.shape[0], 1]), x_test_n), axis = 1).astype(float)\n",
        "test_y_sel = np.dot(x_test_n, w_p)\n",
        "saveSubmit(test_y_sel)"
      ],
      "execution_count": null,
      "outputs": []
    },
    {
      "cell_type": "code",
      "metadata": {
        "id": "90LXMiPiIIvJ"
      },
      "source": [
        "test_y_sel = np.dot(test_x, w_)"
      ],
      "execution_count": null,
      "outputs": []
    },
    {
      "cell_type": "code",
      "metadata": {
        "id": "XOrMxHH9S3hj",
        "colab": {
          "base_uri": "https://localhost:8080/"
        },
        "outputId": "35b31860-b488-4554-8752-a88b6d36a611"
      },
      "source": [
        "index = [5,7,8,9,12,13]\n",
        "\n",
        "x_test_n, y_test_n = select_feature(test_x, 0, index)\n",
        "x_test_n = np.concatenate((np.ones([x_test_n.shape[0], 1]), x_test_n), axis = 1).astype(float)\n",
        "test_y_sel = np.dot(x_test_n, w)\n",
        "saveSubmit(test_y_sel)"
      ],
      "execution_count": null,
      "outputs": [
        {
          "output_type": "stream",
          "text": [
            "['id', 'value']\n",
            "['id_0', 7.4175029585183685]\n",
            "['id_1', 14.908990326372358]\n",
            "['id_2', 33.63618705341647]\n",
            "['id_3', 9.447507015458783]\n",
            "['id_4', 32.53397886763405]\n",
            "['id_5', 19.768902458146787]\n",
            "['id_6', 24.22370821678336]\n",
            "['id_7', 36.93745324834247]\n",
            "['id_8', 29.637684475167255]\n",
            "['id_9', 57.08827146879386]\n",
            "['id_10', 23.17564881447217]\n",
            "['id_11', 18.449845052445752]\n",
            "['id_12', 52.74325604732219]\n",
            "['id_13', 58.179853787051464]\n",
            "['id_14', 17.14024796310087]\n",
            "['id_15', 6.102772194552456]\n",
            "['id_16', 29.86803659530532]\n",
            "['id_17', 69.94294945157462]\n",
            "['id_18', 2.560608660635419]\n",
            "['id_19', 17.590004082174982]\n",
            "['id_20', 42.08174552581414]\n",
            "['id_21', 65.45898953691243]\n",
            "['id_22', 4.171730926753144]\n",
            "['id_23', 17.413552173397694]\n",
            "['id_24', 12.773899665193884]\n",
            "['id_25', 34.21403307785464]\n",
            "['id_26', 10.75934309485582]\n",
            "['id_27', 79.08048064223264]\n",
            "['id_28', 9.43191037504447]\n",
            "['id_29', 62.20470669607639]\n",
            "['id_30', 20.310693101492575]\n",
            "['id_31', 8.726922455468696]\n",
            "['id_32', 4.33199347833841]\n",
            "['id_33', 43.93033532836484]\n",
            "['id_34', 43.27130868360464]\n",
            "['id_35', 33.11597524061156]\n",
            "['id_36', 34.796799683007876]\n",
            "['id_37', 36.35217090932109]\n",
            "['id_38', 44.91033108192267]\n",
            "['id_39', 52.9943814887158]\n",
            "['id_40', 3.7619607948017095]\n",
            "['id_41', 40.20551025258089]\n",
            "['id_42', 46.805713314943176]\n",
            "['id_43', 45.398447988170986]\n",
            "['id_44', 14.089312303987175]\n",
            "['id_45', 38.551044206612836]\n",
            "['id_46', 19.294277917545646]\n",
            "['id_47', 11.87238066665517]\n",
            "['id_48', 19.71915464690882]\n",
            "['id_49', 27.243527368425585]\n",
            "['id_50', 35.17202325759311]\n",
            "['id_51', 6.85306702940509]\n",
            "['id_52', 50.42577401758626]\n",
            "['id_53', 49.75547681617991]\n",
            "['id_54', 16.730439242735848]\n",
            "['id_55', 33.77893143894498]\n",
            "['id_56', 27.35666284186924]\n",
            "['id_57', 30.64699818429827]\n",
            "['id_58', 66.52355133897032]\n",
            "['id_59', 19.724187656323405]\n",
            "['id_60', 20.312686577891835]\n",
            "['id_61', 40.72433957885642]\n",
            "['id_62', 12.152491606708747]\n",
            "['id_63', 54.95828673902042]\n",
            "['id_64', 25.43524161735484]\n",
            "['id_65', 17.404989030796298]\n",
            "['id_66', 21.37553510397553]\n",
            "['id_67', 1.0778452639536114]\n",
            "['id_68', 51.33156924740919]\n",
            "['id_69', 45.28442009966189]\n",
            "['id_70', 9.756377618218899]\n",
            "['id_71', 24.352721065828366]\n",
            "['id_72', 60.51379105612616]\n",
            "['id_73', 2.4191239935680424]\n",
            "['id_74', 15.723763225244058]\n",
            "['id_75', 9.903476743559496]\n",
            "['id_76', 48.28669995853786]\n",
            "['id_77', 24.669071707664664]\n",
            "['id_78', 40.2779108793792]\n",
            "['id_79', 29.80333823025248]\n",
            "['id_80', 20.720898619983604]\n",
            "['id_81', 41.622076035786996]\n",
            "['id_82', 27.391096414575635]\n",
            "['id_83', 68.2897173752053]\n",
            "['id_84', 30.16014602587077]\n",
            "['id_85', 24.54995962798846]\n",
            "['id_86', 31.49551358454882]\n",
            "['id_87', 22.146862464545855]\n",
            "['id_88', 25.229607005300345]\n",
            "['id_89', 21.136455921265856]\n",
            "['id_90', 28.512683413143932]\n",
            "['id_91', 35.29442867001429]\n",
            "['id_92', 10.430902231809418]\n",
            "['id_93', 37.61847048870984]\n",
            "['id_94', 35.804434561739484]\n",
            "['id_95', 14.46574535411211]\n",
            "['id_96', 37.35181825058486]\n",
            "['id_97', 13.80107528515372]\n",
            "['id_98', 24.688517168097203]\n",
            "['id_99', 9.452779793750645]\n",
            "['id_100', 14.52820222530833]\n",
            "['id_101', 35.29373076821112]\n",
            "['id_102', 13.858481327630425]\n",
            "['id_103', 21.03323153347851]\n",
            "['id_104', 25.01586008736788]\n",
            "['id_105', 34.97345335426364]\n",
            "['id_106', 30.793319818480935]\n",
            "['id_107', 11.487283229520663]\n",
            "['id_108', 19.85981270366175]\n",
            "['id_109', 69.79139701534818]\n",
            "['id_110', 37.12126763489896]\n",
            "['id_111', 9.109340530967724]\n",
            "['id_112', 32.932371668549685]\n",
            "['id_113', 17.529020668715916]\n",
            "['id_114', 13.83139909994435]\n",
            "['id_115', 26.131173487585357]\n",
            "['id_116', 22.168124534728047]\n",
            "['id_117', 8.930973822471936]\n",
            "['id_118', 25.437640799458002]\n",
            "['id_119', 13.404746151543494]\n",
            "['id_120', 60.73192730982247]\n",
            "['id_121', 17.714191313416958]\n",
            "['id_122', 16.608829458105255]\n",
            "['id_123', 23.895401317792516]\n",
            "['id_124', 12.738336356069391]\n",
            "['id_125', 54.407368172536614]\n",
            "['id_126', 18.39886227352658]\n",
            "['id_127', 10.645420057423774]\n",
            "['id_128', 32.87918976355912]\n",
            "['id_129', 55.31859407340418]\n",
            "['id_130', 14.349421800199517]\n",
            "['id_131', 25.10404291414522]\n",
            "['id_132', 59.39371948638524]\n",
            "['id_133', 8.73699845900365]\n",
            "['id_134', 13.885951175735293]\n",
            "['id_135', 6.752491152195369]\n",
            "['id_136', 17.37110839510921]\n",
            "['id_137', 61.64479965862921]\n",
            "['id_138', 16.57688300933196]\n",
            "['id_139', 4.045397319216656]\n",
            "['id_140', 27.03662999438788]\n",
            "['id_141', 28.394360192520953]\n",
            "['id_142', 26.99219338583933]\n",
            "['id_143', 40.9161550814252]\n",
            "['id_144', 8.279211902115646]\n",
            "['id_145', 25.116063880152474]\n",
            "['id_146', 7.059530371697423]\n",
            "['id_147', 62.21603963451457]\n",
            "['id_148', 17.01095201758832]\n",
            "['id_149', 38.99580205249677]\n",
            "['id_150', 10.801830460838486]\n",
            "['id_151', 2.0360270278970836]\n",
            "['id_152', 26.40714610532765]\n",
            "['id_153', 3.2522333555288787]\n",
            "['id_154', 24.414868772283633]\n",
            "['id_155', 38.9500973308235]\n",
            "['id_156', 8.394554341243156]\n",
            "['id_157', 29.802127058473538]\n",
            "['id_158', 15.13404445208082]\n",
            "['id_159', 25.600485090473764]\n",
            "['id_160', 45.31010508362643]\n",
            "['id_161', 16.301235617588866]\n",
            "['id_162', 5.669328136766573]\n",
            "['id_163', 5.66183163812021]\n",
            "['id_164', 50.898747349773906]\n",
            "['id_165', 28.444300695285868]\n",
            "['id_166', 0.8441596884318685]\n",
            "['id_167', 16.644443108090957]\n",
            "['id_168', 60.468698659349975]\n",
            "['id_169', 11.319376058070594]\n",
            "['id_170', 62.62663436979427]\n",
            "['id_171', 39.724468196824816]\n",
            "['id_172', 26.545682325655136]\n",
            "['id_173', 21.259517231946813]\n",
            "['id_174', 60.632981961913444]\n",
            "['id_175', 17.06638181963775]\n",
            "['id_176', 25.00529015161499]\n",
            "['id_177', 30.95745633221793]\n",
            "['id_178', 9.944279845574576]\n",
            "['id_179', 26.62307657635491]\n",
            "['id_180', 18.649107847768224]\n",
            "['id_181', 6.919404253031825]\n",
            "['id_182', 39.61541067505944]\n",
            "['id_183', 39.29891288061202]\n",
            "['id_184', 20.816284383595253]\n",
            "['id_185', 22.788193167634013]\n",
            "['id_186', 22.032436050587865]\n",
            "['id_187', 64.22377094444587]\n",
            "['id_188', 14.88898312999607]\n",
            "['id_189', 65.33800215508192]\n",
            "['id_190', 39.46090726860459]\n",
            "['id_191', 13.721154091301475]\n",
            "['id_192', 24.423196207762583]\n",
            "['id_193', 1.2021172680580714]\n",
            "['id_194', 22.048238137778895]\n",
            "['id_195', 1.2622900657539782]\n",
            "['id_196', 33.37791544941946]\n",
            "['id_197', 12.81918486249298]\n",
            "['id_198', 24.467227380629918]\n",
            "['id_199', 78.40072576659547]\n",
            "['id_200', 31.047952666033204]\n",
            "['id_201', 21.400262958317864]\n",
            "['id_202', 64.75680557697595]\n",
            "['id_203', 9.373970088196709]\n",
            "['id_204', 9.406857780939811]\n",
            "['id_205', 12.80563603841571]\n",
            "['id_206', 11.301534660095689]\n",
            "['id_207', 7.319771856356761]\n",
            "['id_208', 96.68090249689764]\n",
            "['id_209', 17.28813389042018]\n",
            "['id_210', 9.344467062384922]\n",
            "['id_211', 22.55632336569118]\n",
            "['id_212', 23.504010948398577]\n",
            "['id_213', 33.86676390380231]\n",
            "['id_214', 21.935556531910624]\n",
            "['id_215', 23.130969945265917]\n",
            "['id_216', 81.68689654977932]\n",
            "['id_217', 4.924009757995598]\n",
            "['id_218', 12.317352786900507]\n",
            "['id_219', 39.99343844581419]\n",
            "['id_220', 21.023337874657955]\n",
            "['id_221', 15.834657284352287]\n",
            "['id_222', 136.88084405292585]\n",
            "['id_223', 15.821188232454777]\n",
            "['id_224', 15.863781081278354]\n",
            "['id_225', 45.96736611339572]\n",
            "['id_226', 16.73899593653397]\n",
            "['id_227', 22.26564443315591]\n",
            "['id_228', 14.51399190183428]\n",
            "['id_229', 1.9914654215101155]\n",
            "['id_230', 35.552898044920504]\n",
            "['id_231', 21.493291190843074]\n",
            "['id_232', 39.01819907267248]\n",
            "['id_233', 42.303312203709204]\n",
            "['id_234', 14.820269778566646]\n",
            "['id_235', 55.03261003204572]\n",
            "['id_236', 71.152475223478]\n",
            "['id_237', 46.46195003393508]\n",
            "['id_238', 6.782495260764502]\n",
            "['id_239', 15.412560985063333]\n"
          ],
          "name": "stdout"
        }
      ]
    },
    {
      "cell_type": "markdown",
      "metadata": {
        "id": "vvUl1VhBcYIM"
      },
      "source": [
        "* **2 power**"
      ]
    },
    {
      "cell_type": "code",
      "metadata": {
        "id": "0y1fvqo1bVc8"
      },
      "source": [
        "index = [1,5,7,8,9,12,13]\n",
        "pow = 2\n",
        "x_train_n, y_train_n = select_model(x_train_set, y_train_set, index, pow)\n",
        "w_7f_p2 = calWeight(x_train_n, y_train_n, 7000, 5)\n",
        "x_test_n, test_y = select_model(test_x, 0, index, pow)\n",
        "x_test_n = np.concatenate((np.ones([x_test_n.shape[0], 1]), x_test_n), axis = 1).astype(float)\n",
        "test_y_sel = np.dot(x_test_n, w_7f_p2)"
      ],
      "execution_count": null,
      "outputs": []
    },
    {
      "cell_type": "code",
      "metadata": {
        "id": "rfOyrYIOJMTh"
      },
      "source": [
        "index = [5,7,8,9]\n",
        "pow = 2\n",
        "x_test_n, test_y = select_model(test_x, 0, index, pow)\n",
        "x_test_n = np.concatenate((np.ones([x_test_n.shape[0], 1]), x_test_n), axis = 1).astype(float)\n",
        "test_y_sel = np.dot(x_test_n, w_4f_p2)"
      ],
      "execution_count": null,
      "outputs": []
    },
    {
      "cell_type": "code",
      "metadata": {
        "id": "gifg3UKzJ5RY"
      },
      "source": [
        "x_test_n, test_y = select_model(test_x, 0, [9], 2)\n",
        "x_test_n = np.concatenate((np.ones([x_test_n.shape[0], 1]), x_test_n), axis = 1).astype(float)\n",
        "test_y_sel = np.dot(x_test_n, w_p)\n",
        "saveSubmit(test_y_sel)"
      ],
      "execution_count": null,
      "outputs": []
    },
    {
      "cell_type": "markdown",
      "metadata": {
        "id": "NUU5iPwJJ4Is"
      },
      "source": [
        ""
      ]
    },
    {
      "cell_type": "markdown",
      "metadata": {
        "id": "g6m5FihHZUEQ"
      },
      "source": [
        "* **7 features**"
      ]
    },
    {
      "cell_type": "code",
      "metadata": {
        "id": "ME_JSNf-ZXro"
      },
      "source": [
        "x_train_set_7, y_train_set_7 = select_feature(x_train_set, y_train_set, [1,5,7,8,9,12,13])\n",
        "w = calWeight(x_train_set_7,y_train_set_7,5000,0.5)\n",
        "test_x_sel, test_y_sel = select_feature(test_x, y, [1,5,7,8,9,12,13])\n",
        "test_x_7f_9h = np.concatenate((np.ones([test_x_sel.shape[0], 1]), test_x_sel), axis = 1).astype(float)\n",
        "test_y_sel = np.dot(test_x_7f_9h, w)\n",
        "test_y_sel.shape"
      ],
      "execution_count": null,
      "outputs": []
    },
    {
      "cell_type": "markdown",
      "metadata": {
        "id": "--nhqIFPKTmO"
      },
      "source": [
        "* **6 features**"
      ]
    },
    {
      "cell_type": "code",
      "metadata": {
        "id": "3btvjrByJFi9"
      },
      "source": [
        "x_train_set_6, y_train_set_6 = select_feature(x_train_set, y_train_set, [5,7,8,9,12,13])\n",
        "w = calWeight(x_train_set_6,y_train_set_6,2000,0.5)\n",
        "test_x_sel, test_y_sel = select_feature(test_x, y, [5,7,8,9,12,13])\n",
        "test_x_6f_9h = np.concatenate((np.ones([test_x_sel.shape[0], 1]), test_x_sel), axis = 1).astype(float)\n",
        "test_y_sel = np.dot(test_x_6f_9h, w)\n",
        "test_y_sel.shape"
      ],
      "execution_count": null,
      "outputs": []
    },
    {
      "cell_type": "markdown",
      "metadata": {
        "id": "HKMKW7RzHwuO"
      },
      "source": [
        "# **Save Prediction to CSV File**\n"
      ]
    },
    {
      "cell_type": "code",
      "metadata": {
        "id": "xQfD2y12MpYY"
      },
      "source": [
        "import csv"
      ],
      "execution_count": null,
      "outputs": []
    },
    {
      "cell_type": "code",
      "metadata": {
        "id": "XjcZjZe2Ma-k"
      },
      "source": [
        "def saveSubmit(ans_y):\n",
        "  with open('submit.csv', mode='w', newline='') as submit_file:\n",
        "    csv_writer = csv.writer(submit_file)\n",
        "    header = ['id', 'value']\n",
        "    print(header)\n",
        "    csv_writer.writerow(header)\n",
        "    for i in range(240):\n",
        "        row = ['id_' + str(i), ans_y[i][0]]\n",
        "        csv_writer.writerow(row)\n",
        "        print(row)"
      ],
      "execution_count": null,
      "outputs": []
    },
    {
      "cell_type": "code",
      "metadata": {
        "id": "JqHv2zXkMlKr"
      },
      "source": [
        "saveSubmit(test_y_sel)"
      ],
      "execution_count": null,
      "outputs": []
    },
    {
      "cell_type": "markdown",
      "metadata": {
        "id": "Y54yWq9cIPR4"
      },
      "source": [
        "相關 reference 可以參考:\n",
        "\n",
        "Adagrad :\n",
        "https://youtu.be/yKKNr-QKz2Q?list=PLJV_el3uVTsPy9oCRY30oBPNLCo89yu49&t=705 \n",
        "\n",
        "RMSprop : \n",
        "https://www.youtube.com/watch?v=5Yt-obwvMHI \n",
        "\n",
        "Adam\n",
        "https://www.youtube.com/watch?v=JXQT_vxqwIs \n",
        "\n",
        "\n",
        "以上 print 的部分主要是為了看一下資料和結果的呈現，拿掉也無妨。另外，在自己的 linux 系統，可以將檔案寫死的的部分換成 sys.argv 的使用 (可在 terminal 自行輸入檔案和檔案位置)。\n",
        "\n",
        "最後，可以藉由調整 learning rate、iter_time (iteration 次數)、取用 features 的多寡(取幾個小時，取哪些特徵欄位)，甚至是不同的 model 來超越 baseline。\n",
        "\n",
        "Report 的問題模板請參照 : https://docs.google.com/document/d/1s84RXs2AEgZr54WCK9IgZrfTF-6B1td-AlKR9oqYa4g/edit"
      ]
    }
  ]
}