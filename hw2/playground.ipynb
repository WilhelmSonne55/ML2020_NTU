{
  "nbformat": 4,
  "nbformat_minor": 0,
  "metadata": {
    "colab": {
      "name": "「hw2_classification.ipynb」的副本",
      "provenance": [],
      "collapsed_sections": [],
      "toc_visible": true
    },
    "kernelspec": {
      "name": "python3",
      "display_name": "Python 3"
    }
  },
  "cells": [
    {
      "cell_type": "markdown",
      "metadata": {
        "id": "OSL2CMEzmQvB"
      },
      "source": [
        "#**Homework 2 - Classification**\n",
        "若有任何問題，歡迎來信至助教信箱 ntu-ml-2020spring-ta@googlegroups.com"
      ]
    },
    {
      "cell_type": "markdown",
      "metadata": {
        "id": "ox7joE3aZkh-"
      },
      "source": [
        "Binary classification is one of the most fundamental problem in machine learning. In this tutorial, you are going to build linear binary classifiers to predict whether the income of an indivisual exceeds 50,000 or not. We presented a discriminative and a generative approaches, the logistic regression(LR) and the linear discriminant anaysis(LDA). You are encouraged to compare the differences between the two, or explore more methodologies. Although you can finish this tutorial by simpliy copying and pasting the codes, we strongly recommend you to understand the mathematical formulation first to get more insight into the two algorithms. Please find [here](http://speech.ee.ntu.edu.tw/~tlkagk/courses/ML_2016/Lecture/Logistic%20Regression%20(v3).pdf) and [here](http://speech.ee.ntu.edu.tw/~tlkagk/courses/ML_2016/Lecture/Classification%20(v3).pdf) for more detailed information about the two algorithms.\n",
        "\n",
        "二元分類是機器學習中最基礎的問題之一，在這份教學中，你將學會如何實作一個線性二元分類器，來根據人們的個人資料，判斷其年收入是否高於 50,000 美元。我們將以兩種方法: logistic regression 與 generative model，來達成以上目的，你可以嘗試了解、分析兩者的設計理念及差別。針對這兩個演算法的理論基礎，可以參考李宏毅老師的教學投影片 [logistic regression](http://speech.ee.ntu.edu.tw/~tlkagk/courses/ML_2016/Lecture/Logistic%20Regression%20(v3).pdf) 與 [generative model](http://speech.ee.ntu.edu.tw/~tlkagk/courses/ML_2016/Lecture/Classification%20(v3).pdf)。\n",
        "\n",
        "若有任何問題，歡迎來信至助教信箱 ntu-ml-2020spring-ta@googlegroups.com"
      ]
    },
    {
      "cell_type": "markdown",
      "metadata": {
        "id": "nkNW5cQmohoo"
      },
      "source": [
        "#Dataset\n",
        "\n",
        "This dataset is obtained by removing unnecessary attributes and balancing the ratio between positively and negatively labeled data in the [**Census-Income (KDD) Data Set**](https://archive.ics.uci.edu/ml/datasets/Census-Income+(KDD)), which can be found in [**UCI Machine Learning Repository**](https://archive.ics.uci.edu/ml/index.php). Only preprocessed and one-hot encoded data (i.e. *X_train*,  *Y_train* and *X_test*) will be used in this tutorial. Raw data (i.e. *train.csv* and *test.csv*) are provided to you in case you are interested in it.\n",
        "\n",
        "這個資料集是由 [**UCI Machine Learning Repository**](https://archive.ics.uci.edu/ml/index.php) 的 [**Census-Income (KDD) Data Set**](https://archive.ics.uci.edu/ml/datasets/Census-Income+(KDD)) 經過一些處理而得來。為了方便訓練，我們移除了一些不必要的資訊，並且稍微平衡了正負兩種標記的比例。事實上在訓練過程中，只有 X_train、Y_train 和 X_test 這三個經過處理的檔案會被使用到，train.csv 和 test.csv 這兩個原始資料檔則可以提供你一些額外的資訊。"
      ]
    },
    {
      "cell_type": "code",
      "metadata": {
        "id": "Ww4-VJoJqE-_",
        "colab": {
          "base_uri": "https://localhost:8080/"
        },
        "outputId": "f846006d-48ff-4376-badc-29757b20d83c"
      },
      "source": [
        "!gdown --id '1KSFIRh0-_Vr7SdiSCZP1ItV7bXPxMD92' --output data.tar.gz\n",
        "!tar -zxvf data.tar.gz\n",
        "!ls"
      ],
      "execution_count": null,
      "outputs": [
        {
          "output_type": "stream",
          "text": [
            "Downloading...\n",
            "From: https://drive.google.com/uc?id=1KSFIRh0-_Vr7SdiSCZP1ItV7bXPxMD92\n",
            "To: /content/data.tar.gz\n",
            "\r0.00B [00:00, ?B/s]\r6.11MB [00:00, 53.6MB/s]\n",
            "data/\n",
            "data/sample_submission.csv\n",
            "data/test_no_label.csv\n",
            "data/train.csv\n",
            "data/X_test\n",
            "data/X_train\n",
            "data/Y_train\n",
            "data  data.tar.gz  sample_data\n"
          ],
          "name": "stdout"
        }
      ]
    },
    {
      "cell_type": "markdown",
      "metadata": {
        "id": "WRXI0kf0W4Bd"
      },
      "source": [
        "#Logistic Regression\n",
        "\n",
        "In this section we will introduce logistic regression first. We only present how to implement it here, while mathematical formulation and analysis will be omitted. You can find more theoretical detail in [Prof. Lee's lecture](https://www.youtube.com/watch?v=hSXFuypLukA).\n",
        "\n",
        "首先我們會實作 logistic regression，針對理論細節說明請參考[李宏毅老師的教學影片](https://www.youtube.com/watch?v=hSXFuypLukA)\n",
        "\n",
        "###Preparing Data\n",
        "\n",
        "Load and normalize data, and then split training data into training set and development set.\n",
        "\n",
        "下載資料，並且對每個屬性做正規化，處理過後再將其切分為訓練集與發展集。"
      ]
    },
    {
      "cell_type": "code",
      "metadata": {
        "id": "7NzAmkzU2MAS",
        "colab": {
          "base_uri": "https://localhost:8080/"
        },
        "outputId": "59e102c0-b4dd-4975-d3f0-e24b49f87f68"
      },
      "source": [
        "import numpy as np\n",
        "\n",
        "np.random.seed(0)\n",
        "X_train_fpath = './data/X_train'\n",
        "Y_train_fpath = './data/Y_train'\n",
        "X_test_fpath = './data/X_test'\n",
        "output_fpath = './output_{}.csv'\n",
        "\n",
        "# Parse csv files to numpy array\n",
        "with open(X_train_fpath) as f:\n",
        "    next(f)\n",
        "    X_train = np.array([line.strip('\\n').split(',')[1:] for line in f], dtype = float)\n",
        "with open(Y_train_fpath) as f:\n",
        "    next(f)\n",
        "    Y_train = np.array([line.strip('\\n').split(',')[1] for line in f], dtype = float)\n",
        "with open(X_test_fpath) as f:\n",
        "    next(f)\n",
        "    X_test = np.array([line.strip('\\n').split(',')[1:] for line in f], dtype = float)\n",
        "\n",
        "def _normalize(X, train = True, specified_column = None, X_mean = None, X_std = None):\n",
        "    # This function normalizes specific columns of X.\n",
        "    # The mean and standard variance of training data will be reused when processing testing data.\n",
        "    #\n",
        "    # Arguments:\n",
        "    #     X: data to be processed\n",
        "    #     train: 'True' when processing training data, 'False' for testing data\n",
        "    #     specific_column: indexes of the columns that will be normalized. If 'None', all columns\n",
        "    #         will be normalized.\n",
        "    #     X_mean: mean value of training data, used when train = 'False'\n",
        "    #     X_std: standard deviation of training data, used when train = 'False'\n",
        "    # Outputs:\n",
        "    #     X: normalized data\n",
        "    #     X_mean: computed mean value of training data\n",
        "    #     X_std: computed standard deviation of training data\n",
        "\n",
        "    if specified_column == None:\n",
        "        specified_column = np.arange(X.shape[1])\n",
        "    if train:\n",
        "        X_mean = np.mean(X[:, specified_column] ,0).reshape(1, -1)\n",
        "        X_std  = np.std(X[:, specified_column], 0).reshape(1, -1)\n",
        "\n",
        "    X[:,specified_column] = (X[:, specified_column] - X_mean) / (X_std + 1e-8)\n",
        "     \n",
        "    return X, X_mean, X_std\n",
        "\n",
        "def _train_dev_split(X, Y, dev_ratio = 0.25):\n",
        "    # This function spilts data into training set and development set.\n",
        "    train_size = int(len(X) * (1 - dev_ratio))\n",
        "    return X[:train_size], Y[:train_size], X[train_size:], Y[train_size:]\n",
        "\n",
        "# Normalize training and testing data\n",
        "X_train, X_mean, X_std = _normalize(X_train, train = True)\n",
        "X_test, _, _= _normalize(X_test, train = False, specified_column = None, X_mean = X_mean, X_std = X_std)\n",
        "    \n",
        "# Split data into training set and development set\n",
        "dev_ratio = 0.1\n",
        "X_train, Y_train, X_dev, Y_dev = _train_dev_split(X_train, Y_train, dev_ratio = dev_ratio)\n",
        "\n",
        "train_size = X_train.shape[0]\n",
        "dev_size = X_dev.shape[0]\n",
        "test_size = X_test.shape[0]\n",
        "data_dim = X_train.shape[1]\n",
        "print('Size of training set: {}'.format(train_size))\n",
        "print('Size of development set: {}'.format(dev_size))\n",
        "print('Size of testing set: {}'.format(test_size))\n",
        "print('Dimension of data: {}'.format(data_dim))"
      ],
      "execution_count": null,
      "outputs": [
        {
          "output_type": "stream",
          "text": [
            "Size of training set: 48830\n",
            "Size of development set: 5426\n",
            "Size of testing set: 27622\n",
            "Dimension of data: 510\n"
          ],
          "name": "stdout"
        }
      ]
    },
    {
      "cell_type": "code",
      "metadata": {
        "colab": {
          "base_uri": "https://localhost:8080/"
        },
        "id": "NXODgMlbLgL5",
        "outputId": "80031c7a-9e5b-451a-e088-14aa128bd7b1"
      },
      "source": [
        "X_train.shape"
      ],
      "execution_count": null,
      "outputs": [
        {
          "output_type": "execute_result",
          "data": {
            "text/plain": [
              "(48830, 510)"
            ]
          },
          "metadata": {
            "tags": []
          },
          "execution_count": 9
        }
      ]
    },
    {
      "cell_type": "code",
      "metadata": {
        "colab": {
          "base_uri": "https://localhost:8080/"
        },
        "id": "4XTAIrC6Ljv4",
        "outputId": "d54c1fe4-1fe7-41aa-8065-b6710fe3184a"
      },
      "source": [
        "Y_train.shape"
      ],
      "execution_count": null,
      "outputs": [
        {
          "output_type": "execute_result",
          "data": {
            "text/plain": [
              "(48830,)"
            ]
          },
          "metadata": {
            "tags": []
          },
          "execution_count": 10
        }
      ]
    },
    {
      "cell_type": "code",
      "metadata": {
        "colab": {
          "base_uri": "https://localhost:8080/"
        },
        "id": "_iFzOAneLmQg",
        "outputId": "76a8ac11-5ecd-46e2-b5fc-29d2e6041e69"
      },
      "source": [
        "X_dev.shape"
      ],
      "execution_count": null,
      "outputs": [
        {
          "output_type": "execute_result",
          "data": {
            "text/plain": [
              "(5426, 510)"
            ]
          },
          "metadata": {
            "tags": []
          },
          "execution_count": 11
        }
      ]
    },
    {
      "cell_type": "markdown",
      "metadata": {
        "id": "imgCeBDoApdb"
      },
      "source": [
        "\n",
        "###Some Useful Functions\n",
        "\n",
        "Some functions that will be repeatedly used when iteratively updating the parameters.\n",
        "\n",
        "這幾個函數可能會在訓練迴圈中被重複使用到。"
      ]
    },
    {
      "cell_type": "code",
      "metadata": {
        "id": "hSDAw5LTAs2o"
      },
      "source": [
        "def _shuffle(X, Y):\n",
        "    # This function shuffles two equal-length list/array, X and Y, together.\n",
        "    randomize = np.arange(len(X))\n",
        "    np.random.shuffle(randomize)\n",
        "    return (X[randomize], Y[randomize])\n",
        "\n",
        "def _sigmoid(z):\n",
        "    # Sigmoid function can be used to calculate probability.\n",
        "    # To avoid overflow, minimum/maximum output value is set.\n",
        "    return np.clip(1 / (1.0 + np.exp(-z)), 1e-8, 1 - (1e-8))\n",
        "\n",
        "def _f(X, w, b):\n",
        "    # This is the logistic regression function, parameterized by w and b\n",
        "    #\n",
        "    # Arguements:\n",
        "    #     X: input data, shape = [batch_size, data_dimension]\n",
        "    #     w: weight vector, shape = [data_dimension, ]\n",
        "    #     b: bias, scalar\n",
        "    # Output:\n",
        "    #     predicted probability of each row of X being positively labeled, shape = [batch_size, ]\n",
        "    return _sigmoid(np.matmul(X, w) + b)\n",
        "\n",
        "def _predict(X, w, b):\n",
        "    # This function returns a truth value prediction for each row of X \n",
        "    # by rounding the result of logistic regression function.\n",
        "    return np.round(_f(X, w, b)).astype(np.int)\n",
        "    \n",
        "def _accuracy(Y_pred, Y_label):\n",
        "    # This function calculates prediction accuracy\n",
        "    acc = 1 - np.mean(np.abs(Y_pred - Y_label))\n",
        "    return acc"
      ],
      "execution_count": null,
      "outputs": []
    },
    {
      "cell_type": "markdown",
      "metadata": {
        "id": "OxJdfhEEOYwg"
      },
      "source": [
        "### Functions about gradient and loss\n",
        "\n",
        "Please refers to [Prof. Lee's lecture slides](http://speech.ee.ntu.edu.tw/~tlkagk/courses/ML_2016/Lecture/Logistic%20Regression%20(v3).pdf)(p.12) for the formula of gradient and loss computation.\n",
        "\n",
        "請參考[李宏毅老師上課投影片](http://speech.ee.ntu.edu.tw/~tlkagk/courses/ML_2016/Lecture/Logistic%20Regression%20(v3).pdf)第 12 頁的梯度及損失函數計算公式。"
      ]
    },
    {
      "cell_type": "code",
      "metadata": {
        "id": "DqYkUgLjOWi1"
      },
      "source": [
        "def _cross_entropy_loss(y_pred, Y_label):\n",
        "    # This function computes the cross entropy.\n",
        "    #\n",
        "    # Arguements:\n",
        "    #     y_pred: probabilistic predictions, float vector\n",
        "    #     Y_label: ground truth labels, bool vector\n",
        "    # Output:\n",
        "    #     cross entropy, scalar\n",
        "    cross_entropy = -np.dot(Y_label, np.log(y_pred)) - np.dot((1 - Y_label), np.log(1 - y_pred))\n",
        "    return cross_entropy\n",
        "\n",
        "def _gradient(X, Y_label, w, b):\n",
        "    # This function computes the gradient of cross entropy loss with respect to weight w and bias b.\n",
        "    y_pred = _f(X, w, b)\n",
        "    pred_error = Y_label - y_pred\n",
        "    w_grad = -np.sum(pred_error * X.T, 1)\n",
        "    b_grad = -np.sum(pred_error)\n",
        "    return w_grad, b_grad\n"
      ],
      "execution_count": null,
      "outputs": []
    },
    {
      "cell_type": "markdown",
      "metadata": {
        "id": "XXEFuqydaA34"
      },
      "source": [
        "### Training\n",
        "\n",
        "Everything is prepared, let's start training! \n",
        "\n",
        "Mini-batch gradient descent is used here, in which training data are split into several mini-batches and each batch is fed into the model sequentially for losses and gradients computation. Weights and bias are updated on a mini-batch basis.\n",
        "\n",
        "Once we have gone through the whole training set,  the data have to be re-shuffled and mini-batch gradient desent has to be run on it again. We repeat such process until max number of iterations is reached.\n",
        "\n",
        "我們使用小批次梯度下降法來訓練。訓練資料被分為許多小批次，針對每一個小批次，我們分別計算其梯度以及損失，並根據該批次來更新模型的參數。當一次迴圈完成，也就是整個訓練集的所有小批次都被使用過一次以後，我們將所有訓練資料打散並且重新分成新的小批次，進行下一個迴圈，直到事先設定的迴圈數量達成為止。"
      ]
    },
    {
      "cell_type": "code",
      "metadata": {
        "id": "s6yNUeG9aBR1",
        "colab": {
          "base_uri": "https://localhost:8080/"
        },
        "outputId": "09ebb1f3-36e5-4a97-c51d-552b2d595d69"
      },
      "source": [
        "# Zero initialization for weights ans bias\n",
        "w = np.zeros((data_dim,)) \n",
        "b = np.zeros((1,))\n",
        "\n",
        "# Some parameters for training    \n",
        "max_iter = 10\n",
        "batch_size = 8\n",
        "learning_rate = 0.2\n",
        "\n",
        "# Keep the loss and accuracy at every iteration for plotting\n",
        "train_loss = []\n",
        "dev_loss = []\n",
        "train_acc = []\n",
        "dev_acc = []\n",
        "\n",
        "# Calcuate the number of parameter updates\n",
        "step = 1\n",
        "\n",
        "# Iterative training\n",
        "for epoch in range(max_iter):\n",
        "    # Random shuffle at the begging of each epoch\n",
        "    X_train, Y_train = _shuffle(X_train, Y_train)\n",
        "        \n",
        "    # Mini-batch training\n",
        "    for idx in range(int(np.floor(train_size / batch_size))):\n",
        "        X = X_train[idx*batch_size:(idx+1)*batch_size]\n",
        "        Y = Y_train[idx*batch_size:(idx+1)*batch_size]\n",
        "\n",
        "        # Compute the gradient\n",
        "        w_grad, b_grad = _gradient(X, Y, w, b)\n",
        "            \n",
        "        # gradient descent update\n",
        "        # learning rate decay with time\n",
        "        w = w - learning_rate/np.sqrt(step) * w_grad \n",
        "        b = b - learning_rate/np.sqrt(step) * b_grad\n",
        "\n",
        "        step = step + 1\n",
        "            \n",
        "    # Compute loss and accuracy of training set and development set\n",
        "    y_train_pred = _f(X_train, w, b)\n",
        "    Y_train_pred = np.round(y_train_pred)\n",
        "    train_acc.append(_accuracy(Y_train_pred, Y_train))\n",
        "    train_loss.append(_cross_entropy_loss(y_train_pred, Y_train) / train_size)\n",
        "\n",
        "    y_dev_pred = _f(X_dev, w, b)\n",
        "    Y_dev_pred = np.round(y_dev_pred)\n",
        "    dev_acc.append(_accuracy(Y_dev_pred, Y_dev))\n",
        "    dev_loss.append(_cross_entropy_loss(y_dev_pred, Y_dev) / dev_size)\n",
        "\n",
        "print('Training loss: {}'.format(train_loss[-1]))\n",
        "print('Development loss: {}'.format(dev_loss[-1]))\n",
        "print('Training accuracy: {}'.format(train_acc[-1]))\n",
        "print('Development accuracy: {}'.format(dev_acc[-1]))"
      ],
      "execution_count": null,
      "outputs": [
        {
          "output_type": "stream",
          "text": [
            "Training loss: 0.26547095072394505\n",
            "Development loss: 0.2843135491916788\n",
            "Training accuracy: 0.8850706532869138\n",
            "Development accuracy: 0.8772576483597494\n"
          ],
          "name": "stdout"
        }
      ]
    },
    {
      "cell_type": "code",
      "metadata": {
        "id": "xNO-QMpZOVJJ"
      },
      "source": [
        "def train(x_train, y_train, x_val, y_val, lamb = 0, p = False):\n",
        "  # Zero initialization for weights ans bias\n",
        "  w = np.zeros((x_train.shape[1],)) \n",
        "  b = np.zeros((1,))\n",
        "  train_size = x_train.shape[0]\n",
        "  val_size = x_val.shape[0]\n",
        "\n",
        "  # Some parameters for training    \n",
        "  max_iter = 100\n",
        "  batch_size = 8\n",
        "  learning_rate = 0.5\n",
        "\n",
        "  # Keep the loss and accuracy at every iteration for plotting\n",
        "  train_loss_data = []\n",
        "  val_loss_data = []\n",
        "  train_acc_data = []\n",
        "  val_acc_data = []\n",
        "\n",
        "  # Calcuate the number of parameter updates\n",
        "  step = 1\n",
        "\n",
        "  # Iterative training\n",
        "  for epoch in range(max_iter):\n",
        "      # Random shuffle at the begging of each epoch\n",
        "      x_train, y_train = _shuffle(x_train, y_train)\n",
        "          \n",
        "      # Mini-batch training\n",
        "      for idx in range(int(np.floor(train_size / batch_size))):\n",
        "          x = x_train[idx*batch_size:(idx+1)*batch_size]\n",
        "          y = y_train[idx*batch_size:(idx+1)*batch_size]\n",
        "\n",
        "          # Compute the gradient\n",
        "          w_grad, b_grad = _gradient(x, y, w, b)\n",
        "          w_grad = w_grad + lamb*w\n",
        "\n",
        "          # gradient descent update\n",
        "          # learning rate decay with time\n",
        "          w = w - learning_rate/np.sqrt(step) * w_grad / batch_size\n",
        "          b = b - learning_rate/np.sqrt(step) * b_grad / batch_size\n",
        "\n",
        "          step = step + 1\n",
        "              \n",
        "      # Compute loss and accuracy of training set and development set\n",
        "      #training part\n",
        "      y_train_pred = _f(x_train, w, b)\n",
        "      y_train_pred_round = np.round(y_train_pred)\n",
        "\n",
        "      train_accuracy = _accuracy(y_train_pred_round, y_train)\n",
        "      train_acc_data.append(train_accuracy)\n",
        "\n",
        "      train_loss = _cross_entropy_loss(y_train_pred, y_train) / train_size + (lamb*np.dot(w,w.T))/(2*train_size)\n",
        "      train_loss_data.append(train_loss)\n",
        "\n",
        "      #validation part\n",
        "      y_val_pred = _f(x_val, w, b)\n",
        "      y_val_pred_round = np.round(y_val_pred)\n",
        "\n",
        "      val_accuracy = _accuracy(y_val_pred_round, y_val)\n",
        "      val_acc_data.append(val_accuracy)\n",
        "\n",
        "      val_loss = _cross_entropy_loss(y_val_pred, y_val) / val_size + (lamb*np.dot(w,w.T))/(2*val_size)\n",
        "      val_loss_data.append(val_loss)\n",
        "  if p == True:\n",
        "    print('training loss:', train_loss)\n",
        "    print('training prediction:', train_accuracy)\n",
        "    print('validation loss:', val_loss)\n",
        "    print('validation prediction:', val_accuracy)\n",
        "\n",
        "  return train_loss, train_loss_data, train_acc_data, val_loss, val_loss_data, val_acc_data, w, b"
      ],
      "execution_count": null,
      "outputs": []
    },
    {
      "cell_type": "code",
      "metadata": {
        "colab": {
          "base_uri": "https://localhost:8080/"
        },
        "id": "WOILcVgclY0l",
        "outputId": "177c6a01-0c19-4c93-e308-3cf9bfd322fc"
      },
      "source": [
        "train_loss, train_loss_data, train_acc_data, val_loss, val_loss_data, val_acc_data, w, b = train(X_train, Y_train, X_dev, Y_dev, 0.02, True)"
      ],
      "execution_count": null,
      "outputs": [
        {
          "output_type": "stream",
          "text": [
            "training loss: 0.2646836494912836\n",
            "training prediction: 0.8852754454228957\n",
            "validation loss: 0.28314609218270376\n",
            "validation prediction: 0.8783634353114633\n"
          ],
          "name": "stdout"
        }
      ]
    },
    {
      "cell_type": "markdown",
      "metadata": {
        "id": "HO7wHEOIaeEr"
      },
      "source": [
        "# Feature Select"
      ]
    },
    {
      "cell_type": "code",
      "metadata": {
        "id": "fShO_x2AD9eH"
      },
      "source": [
        "index = [210, 507, 212,   0, 358, 213, 113, 191, 192, 116, 211, 120, 117,\n",
        "       114,  98, 217, 175, 124, 119, 125, 122, 161, 115, 360, 173,   2,\n",
        "        73,  94, 103,  86, 317, 297, 165,   3, 218, 367, 111, 320, 136,\n",
        "         9,  63,  13, 500, 106, 450,  68, 300, 315, 168, 216, 104,  33,\n",
        "       359,  69, 171,  19, 140, 391, 505, 123,  89, 163,  82, 187, 429,\n",
        "        80,  41, 128, 109, 468, 322,  36, 384, 458, 420, 131, 294, 469,\n",
        "       388, 504,  74, 386, 203, 389, 312,   8, 200, 484, 467, 445, 155,\n",
        "       428, 409, 463, 365, 381, 366, 368,  96, 373, 329,  93,  30,  44,\n",
        "       158, 374,  35, 132, 341,  31,  38, 105, 377, 180, 474, 242,  97,\n",
        "       396, 321, 190, 309, 433,  53, 222, 249, 135,  87, 151,  45, 436,\n",
        "       344, 186, 277, 408,  67, 157,  75, 205, 110, 181, 316, 432,  71,\n",
        "       415,  84, 147,  21, 282, 214,   7, 486, 178,  42, 138,  27, 325,\n",
        "        24, 480, 424, 170,  57, 385, 287,  64, 399, 394, 442, 470, 208,\n",
        "       184, 247, 488, 311, 490, 265, 335,  56, 201, 281, 137,  50, 326,\n",
        "       204, 275,   6, 139,  32, 406, 241,  23, 235, 498, 164,  85, 459,\n",
        "       127, 259, 248, 199, 185, 227, 423, 263, 465, 229,  22, 145, 179,\n",
        "       412, 129, 246,  28,  26, 143, 387, 457, 273, 395,  62,  14, 224,\n",
        "       472, 462,  11,  46, 402,  29, 482, 141, 144, 251, 496, 382, 441,\n",
        "       130,  92, 487,  78, 209, 196, 301, 134, 243, 237, 238, 330, 503,\n",
        "       333, 342, 118, 473, 244, 435, 133, 419, 489, 451, 220, 397, 177,\n",
        "         4, 195, 452,  15, 493,  12, 268, 274, 194, 245, 324, 400, 506,\n",
        "       501,  20, 146,  90,  99, 215, 202, 308, 453, 357,  37, 446, 219,\n",
        "       279, 225, 497, 401, 478, 167, 108,  60, 160, 174,   1, 414, 230,\n",
        "       305,  18, 152, 271, 121, 418, 370, 153, 481,  52, 101, 296,  58,\n",
        "       460, 369, 126,  39,  59, 149, 440,  54, 232, 159, 183, 448, 112,\n",
        "       306, 198, 353, 221, 255, 454,  43, 150, 295,  40, 142,  55, 188,\n",
        "        91, 354, 492, 228, 337, 327, 352, 346, 476, 398, 464, 403, 197,\n",
        "       156,  47, 471, 430, 253, 272,  76, 405, 260, 107,  83, 336, 426,\n",
        "       262, 372, 499, 427, 348, 479, 233, 193, 299, 291,  79, 257, 345,\n",
        "       485, 176,  10, 404, 303, 319, 444,  49,  77,  16, 411, 421, 266,\n",
        "         5, 226, 166,  95, 254, 270, 380, 318,  88, 383,  70, 332, 413,\n",
        "       258, 261, 231, 437, 461, 483,  34, 466, 298, 338, 347, 393, 407,\n",
        "       447, 269, 207, 417, 439, 495,  81, 477, 362,  48, 154, 350, 355,\n",
        "       340, 331, 509, 508, 162, 351, 379, 223, 349, 339, 410, 239, 494,\n",
        "       438, 416, 356, 280, 328,  61, 288,  72, 449, 491,  66, 456, 102,\n",
        "       304, 434, 364, 502,  65, 278,  51, 100, 148, 169, 182,  17, 276,\n",
        "       392, 240, 283, 443, 375, 323, 334, 343, 425, 371, 292, 285, 422,\n",
        "       206, 431, 314, 267, 252, 455, 264, 236, 189,  25, 361, 475, 378,\n",
        "       256, 363, 376, 289, 172, 234, 313, 250, 290, 307, 284, 390, 310,\n",
        "       293, 286, 302]"
      ],
      "execution_count": null,
      "outputs": []
    },
    {
      "cell_type": "code",
      "metadata": {
        "colab": {
          "base_uri": "https://localhost:8080/",
          "height": 298
        },
        "id": "R5fZU0nvVvGh",
        "outputId": "ed08fa15-25c4-463e-91d1-8ab57ce1c472"
      },
      "source": [
        "train_l = []\n",
        "val_l = []\n",
        "size = []\n",
        "for i in range(100,300,25):\n",
        "  ind = index[:i]\n",
        "  train_loss, train_loss_data, train_acc_data, val_loss, val_loss_data, val_acc_data, w, b\\\n",
        "   = train(X_train[:,ind], Y_train, X_dev[:,ind], Y_dev, 0.02)\n",
        "  train_l.append(train_loss)\n",
        "  val_l.append(val_loss)\n",
        "  size.append(i)\n",
        "plt.plot(size,train_l)\n",
        "plt.plot(size,val_l)\n",
        "plt.title('feature number')\n",
        "plt.legend(['train', 'validation'])"
      ],
      "execution_count": null,
      "outputs": [
        {
          "output_type": "execute_result",
          "data": {
            "text/plain": [
              "<matplotlib.legend.Legend at 0x7fa7ccf10690>"
            ]
          },
          "metadata": {
            "tags": []
          },
          "execution_count": 88
        },
        {
          "output_type": "display_data",
          "data": {
            "image/png": "[encoded data removed]",
            "text/plain": [
              "<Figure size 432x288 with 1 Axes>"
            ]
          },
          "metadata": {
            "tags": [],
            "needs_background": "light"
          }
        }
      ]
    },
    {
      "cell_type": "code",
      "metadata": {
        "colab": {
          "base_uri": "https://localhost:8080/"
        },
        "id": "WTpQyFB9-EII",
        "outputId": "9d3700bb-31d9-473e-cc41-bc2212504994"
      },
      "source": [
        "np.argmin(val_l)"
      ],
      "execution_count": null,
      "outputs": [
        {
          "output_type": "execute_result",
          "data": {
            "text/plain": [
              "2"
            ]
          },
          "metadata": {
            "tags": []
          },
          "execution_count": 87
        }
      ]
    },
    {
      "cell_type": "code",
      "metadata": {
        "colab": {
          "base_uri": "https://localhost:8080/"
        },
        "id": "xpEEFXojqRdH",
        "outputId": "af4d336b-bf44-4fe8-84bd-c5a42d1c8554"
      },
      "source": [
        "ind = index[:170]\n",
        "train_loss, train_loss_data, train_acc_data, val_loss, val_loss_data, val_acc_data, w, b \\\n",
        "= train(X_train[:,ind], Y_train, X_dev[:,ind], Y_dev, 0.0025, True)"
      ],
      "execution_count": null,
      "outputs": [
        {
          "output_type": "stream",
          "text": [
            "training loss: 0.2668958438271439\n",
            "training prediction: 0.8846201105877535\n",
            "validation loss: 0.2839888075702822\n",
            "validation prediction: 0.8792849244378916\n"
          ],
          "name": "stdout"
        }
      ]
    },
    {
      "cell_type": "code",
      "metadata": {
        "colab": {
          "base_uri": "https://localhost:8080/",
          "height": 545
        },
        "id": "1lYObcZ01VH5",
        "outputId": "5fc38397-bdfe-4951-d876-5482c48049c5"
      },
      "source": [
        "plotCurve(train_loss_data = None,train_acc = None, val_loss_data = val_loss_data, dev_acc=val_acc_data )"
      ],
      "execution_count": null,
      "outputs": [
        {
          "output_type": "display_data",
          "data": {
            "image/png": "[encoded data removed]",
            "text/plain": [
              "<Figure size 432x288 with 1 Axes>"
            ]
          },
          "metadata": {
            "tags": [],
            "needs_background": "light"
          }
        },
        {
          "output_type": "display_data",
          "data": {
            "image/png": "[encoded data removed]",
            "text/plain": [
              "<Figure size 432x288 with 1 Axes>"
            ]
          },
          "metadata": {
            "tags": [],
            "needs_background": "light"
          }
        }
      ]
    },
    {
      "cell_type": "code",
      "metadata": {
        "id": "Scv9GFvX2-Ox"
      },
      "source": [
        "train_loss_data, val_loss_data, train_acc, dev_acc"
      ],
      "execution_count": null,
      "outputs": []
    },
    {
      "cell_type": "markdown",
      "metadata": {
        "id": "MMvYvEQC1ANo"
      },
      "source": [
        "## polynomial equation"
      ]
    },
    {
      "cell_type": "code",
      "metadata": {
        "id": "08rfXB-ffUMi"
      },
      "source": [
        "ind = index[:170]\n",
        "ind2 = index[:100]\n",
        "ind3 = index[:50]\n",
        "ind4 = index[:25]\n",
        "ind5 = index[:10]\n",
        "X_train_model = np.concatenate((X_train[:,ind], X_train[:,ind2]**2, X_train[:,ind3]**3, X_train[:,ind4]**4, X_train[:,ind5]**5), axis = 1)\n",
        "X_val_model = np.concatenate((X_dev[:,ind], X_dev[:,ind2]**2, X_dev[:,ind3]**3, X_dev[:,ind4]**4, X_dev[:,ind5]**5), axis = 1)"
      ],
      "execution_count": null,
      "outputs": []
    },
    {
      "cell_type": "code",
      "metadata": {
        "colab": {
          "base_uri": "https://localhost:8080/"
        },
        "id": "GKg1sn5cfRYX",
        "outputId": "45881eca-7dc3-4ba9-d3d9-18121e9e435c"
      },
      "source": [
        "train_loss, train_loss_data, val_loss, val_loss_data, w, b = train(X_train_model, Y_train, X_val_model, Y_dev, 0, True)"
      ],
      "execution_count": null,
      "outputs": [
        {
          "output_type": "stream",
          "text": [
            "/usr/local/lib/python3.7/dist-packages/ipykernel_launcher.py:10: RuntimeWarning: overflow encountered in exp\n",
            "  # Remove the CWD from sys.path while we load stuff.\n"
          ],
          "name": "stderr"
        },
        {
          "output_type": "stream",
          "text": [
            "training loss: 2.2413321394415355\n",
            "training prediction: 0.842330534507475\n",
            "validation loss: 2.3146117387727783\n",
            "validation prediction: 0.8367121267969038\n"
          ],
          "name": "stdout"
        }
      ]
    },
    {
      "cell_type": "markdown",
      "metadata": {
        "id": "UmKbr906c1v0"
      },
      "source": [
        "# Regularization\n",
        "- around 0.02"
      ]
    },
    {
      "cell_type": "code",
      "metadata": {
        "colab": {
          "base_uri": "https://localhost:8080/",
          "height": 298
        },
        "id": "yF3FS1fUYhs7",
        "outputId": "4746f3d9-c4db-4bce-c1c5-d0fca5f7b225"
      },
      "source": [
        "lamb = [0,0.003, 0.004, 0.005, 0.006, 0.007, 0.008, 0.01, 0.015, 0.02, 0.025, 0.03, 0.035, 0.04 , 0.05, 0.08, 0.1]\n",
        "train_l = []\n",
        "val_l = []\n",
        "for i in lamb:\n",
        "  train_loss, train_loss_data, val_loss, val_loss_data, w, b = train(X_train, Y_train, X_dev, Y_dev, i)\n",
        "  train_l.append(train_loss)\n",
        "  val_l.append(val_loss)\n",
        "plt.plot(lamb,train_l)\n",
        "plt.plot(lamb,val_l)\n",
        "plt.title('Lambda')\n",
        "plt.legend(['train', 'validation'])"
      ],
      "execution_count": null,
      "outputs": [
        {
          "output_type": "execute_result",
          "data": {
            "text/plain": [
              "<matplotlib.legend.Legend at 0x7fa7d8cf05d0>"
            ]
          },
          "metadata": {
            "tags": []
          },
          "execution_count": 12
        },
        {
          "output_type": "display_data",
          "data": {
            "image/png": "[encoded data removed]",
            "text/plain": [
              "<Figure size 432x288 with 1 Axes>"
            ]
          },
          "metadata": {
            "tags": [],
            "needs_background": "light"
          }
        }
      ]
    },
    {
      "cell_type": "code",
      "metadata": {
        "colab": {
          "base_uri": "https://localhost:8080/",
          "height": 298
        },
        "id": "MocTN8gXqCLG",
        "outputId": "81554692-3f06-4065-b15f-5d7a1d9a59e8"
      },
      "source": [
        "train_l = []\n",
        "val_l = []\n",
        "lamb_l = []\n",
        "for i in np.arange(0,0.025,0.001):\n",
        "  train_loss, train_loss_data, val_loss, val_loss_data, w, b = train(X_train[:,ind], Y_train, X_dev[:,ind], Y_dev, i)\n",
        "  train_l.append(train_loss)\n",
        "  val_l.append(val_loss)\n",
        "  lamb_l.append(i)\n",
        "plt.plot(lamb_l,train_l)\n",
        "plt.plot(lamb_l,val_l)\n",
        "plt.title('Lambda')\n",
        "plt.legend(['train', 'validation'])"
      ],
      "execution_count": null,
      "outputs": [
        {
          "output_type": "execute_result",
          "data": {
            "text/plain": [
              "<matplotlib.legend.Legend at 0x7fa7cd67b050>"
            ]
          },
          "metadata": {
            "tags": []
          },
          "execution_count": 41
        },
        {
          "output_type": "display_data",
          "data": {
            "image/png": "[encoded data removed]",
            "text/plain": [
              "<Figure size 432x288 with 1 Axes>"
            ]
          },
          "metadata": {
            "tags": [],
            "needs_background": "light"
          }
        }
      ]
    },
    {
      "cell_type": "code",
      "metadata": {
        "colab": {
          "base_uri": "https://localhost:8080/"
        },
        "id": "JM1vHACiwxxe",
        "outputId": "c0081a9d-0b3f-4028-d5d9-7c7b703eb0e5"
      },
      "source": [
        "lamb_l[np.argmin(val_l)]"
      ],
      "execution_count": null,
      "outputs": [
        {
          "output_type": "execute_result",
          "data": {
            "text/plain": [
              "0.015"
            ]
          },
          "metadata": {
            "tags": []
          },
          "execution_count": 43
        }
      ]
    },
    {
      "cell_type": "markdown",
      "metadata": {
        "id": "RJuoQ_R2jUmX"
      },
      "source": [
        "### Plotting Loss and accuracy curve"
      ]
    },
    {
      "cell_type": "code",
      "metadata": {
        "id": "_993u1cp1pVX"
      },
      "source": [
        "def plotCurve(train_loss_data, val_loss_data, train_acc, dev_acc):\n",
        "  # Loss curve\n",
        "\n",
        "  if train_loss_data != None:\n",
        "    plt.plot(train_loss_data)\n",
        "    plt.legend(['train', 'dev'])\n",
        "  plt.plot(val_loss_data)\n",
        "  plt.title('Loss')\n",
        "  plt.show()\n",
        "\n",
        "  # Accuracy curve\n",
        "  if train_acc != None:\n",
        "    plt.plot(train_acc)\n",
        "    plt.legend(['train', 'dev'])\n",
        "  plt.plot(dev_acc)\n",
        "  plt.title('Accuracy')\n",
        "  plt.show()"
      ],
      "execution_count": null,
      "outputs": []
    },
    {
      "cell_type": "code",
      "metadata": {
        "id": "DH3AJtvHjVJ7"
      },
      "source": [
        "import matplotlib.pyplot as plt\n",
        "\n",
        "# Loss curve\n",
        "plt.plot(train_loss_data)\n",
        "plt.plot(val_loss_data)\n",
        "plt.title('Loss')\n",
        "plt.legend(['train', 'dev'])\n",
        "plt.savefig('loss.png')\n",
        "plt.show()\n",
        "\n",
        "# Accuracy curve\n",
        "plt.plot(train_acc)\n",
        "plt.plot(dev_acc)\n",
        "plt.title('Accuracy')\n",
        "plt.legend(['train', 'dev'])\n",
        "plt.savefig('acc.png')\n",
        "plt.show()"
      ],
      "execution_count": null,
      "outputs": []
    },
    {
      "cell_type": "markdown",
      "metadata": {
        "id": "HzIcYAfvkUZ_"
      },
      "source": [
        "###Predicting testing labels\n",
        "\n",
        "Predictions are saved to *output_logistic.csv*.\n",
        "\n",
        "預測測試集的資料標籤並且存在 *output_logistic.csv* 中。"
      ]
    },
    {
      "cell_type": "code",
      "metadata": {
        "id": "lELEQWMPtAT-"
      },
      "source": [
        "def save(X_test, w, b):\n",
        "  predictions = _predict(X_test, w, b)\n",
        "  with open(output_fpath.format('logistic'), 'w') as f:\n",
        "      f.write('id,label\\n')\n",
        "      for i, label in  enumerate(predictions):\n",
        "          f.write('{},{}\\n'.format(i, label))"
      ],
      "execution_count": null,
      "outputs": []
    },
    {
      "cell_type": "code",
      "metadata": {
        "id": "2YVAtdCytLnQ"
      },
      "source": [
        "save(X_test[:,ind], w, b)"
      ],
      "execution_count": null,
      "outputs": []
    },
    {
      "cell_type": "code",
      "metadata": {
        "id": "ZEAKhugPkUyH",
        "colab": {
          "base_uri": "https://localhost:8080/"
        },
        "outputId": "3ab04172-8e7b-4a4c-a534-041e0bed8e00"
      },
      "source": [
        "# Predict testing labels\n",
        "predictions = _predict(X_test, w, b)\n",
        "with open(output_fpath.format('logistic'), 'w') as f:\n",
        "    f.write('id,label\\n')\n",
        "    for i, label in  enumerate(predictions):\n",
        "        f.write('{},{}\\n'.format(i, label))\n",
        "\n",
        "# Print out the most significant weights\n",
        "ind = np.argsort(np.abs(w))[::-1]\n",
        "with open(X_test_fpath) as f:\n",
        "    content = f.readline().strip('\\n').split(',')\n",
        "features = np.array(content)\n",
        "for i in ind[0:10]:\n",
        "    print(features[i], w[i])"
      ],
      "execution_count": null,
      "outputs": [
        {
          "output_type": "stream",
          "text": [
            " Unemployed full-time 0.8840034556555993\n",
            " 1 0.6428751716794453\n",
            "capital losses 0.5924164557295093\n",
            "id 0.5047482533035812\n",
            "dividends from stocks -0.3425909563600219\n",
            " Yes 0.3381531927684109\n",
            " Some college but no degree 0.3059699274748882\n",
            " All other 0.26178975729563714\n",
            " Male -0.2617897572956366\n",
            " 11th grade 0.2390557909953806\n"
          ],
          "name": "stdout"
        }
      ]
    },
    {
      "cell_type": "code",
      "metadata": {
        "colab": {
          "base_uri": "https://localhost:8080/"
        },
        "id": "BLz9syiWXcdj",
        "outputId": "8107ef25-c7bc-4a01-b789-6df42d3bfd7b"
      },
      "source": [
        "ind"
      ],
      "execution_count": null,
      "outputs": [
        {
          "output_type": "execute_result",
          "data": {
            "text/plain": [
              "array([210, 507, 212,   0, 213, 358, 113, 191, 192, 116, 120, 211, 117,\n",
              "       114, 217,  98, 124, 175, 125, 119, 122, 161, 115, 173, 103,  86,\n",
              "         2,  73,  94, 317, 367, 297, 165, 203, 111, 218,   3, 136, 500,\n",
              "         9, 106, 450,  13,  63,  68, 384, 320, 104, 168,  69, 171,  33,\n",
              "       205, 163,  82,  19, 140,  89, 368, 468, 429, 187, 391, 216, 322,\n",
              "       109,  41, 386, 359, 128, 388, 366, 469, 409, 458, 389,  36, 433,\n",
              "        74, 315,   8, 200, 131, 300,  44, 158, 373, 204,  80, 428, 374,\n",
              "        30, 484, 294, 445, 180, 467, 321, 155, 360,  96, 432,  93, 420,\n",
              "       505, 312, 123, 190,  87, 341, 329,  31, 277, 470, 424, 474, 249,\n",
              "        97, 242, 222, 105, 316, 309, 132, 454,  53, 381, 486, 377,  64,\n",
              "        35, 436,  67, 415, 110, 186, 442, 247, 135, 396,  75,  71, 465,\n",
              "        24, 281,  21, 147,  38, 157, 459, 151,  45,  56, 362,  84, 344,\n",
              "       178, 325, 488, 288, 335,  27, 490, 402, 265,  23, 282, 170, 275,\n",
              "       184, 263,  57, 385, 201, 504, 246,   6, 138,  42, 503, 480, 145,\n",
              "        22, 241, 194, 127,  11, 423, 301, 498, 453, 199, 259, 134, 489,\n",
              "       130, 399, 287, 209, 179, 326,  85, 164, 395, 472, 238, 143,  26,\n",
              "       177, 229, 235,  92, 382, 406, 462, 357, 273, 412, 506, 501, 181,\n",
              "       227, 139,  32, 441, 243, 471, 208, 141, 311, 457,  46, 214, 394,\n",
              "         7, 196,  50, 137, 251, 419,  90, 460, 129, 225,  91, 118, 324,\n",
              "       435,   4, 451, 244, 478, 185,  78, 440, 496, 482, 452, 146,  20,\n",
              "       493, 274,  62, 330, 237, 133, 387,  83, 308, 268, 144, 220, 403,\n",
              "        29, 418,  12,  37, 363, 401,  28, 248, 397, 159, 473, 400, 370,\n",
              "       343, 334, 323, 405, 448, 296, 422, 342, 333, 427, 245,  15, 411,\n",
              "       497, 260, 446, 121, 183, 306, 230, 271, 262, 279, 352, 346, 337,\n",
              "       327, 195,  14, 197, 487, 305, 492, 202, 476, 444, 272, 398, 215,\n",
              "        54, 232, 299, 354,  77, 198, 463, 430,   1,  40, 295,  52, 188,\n",
              "       304, 464,  99, 207, 101, 369, 426, 318, 499, 404, 291, 361, 319,\n",
              "       112,  58,  55, 142,  34, 107, 150,  43, 228, 348, 153, 408, 434,\n",
              "       481, 219, 438, 365, 108,  60, 160, 174, 257, 376, 253, 167, 351,\n",
              "       221, 353, 255, 345, 483, 261, 292,  88, 443, 479,  76,  79,  39,\n",
              "       336, 392, 258, 233, 509, 331, 508, 350, 355, 340, 298,  81, 372,\n",
              "       425, 414, 285, 356,  10, 390, 439, 289, 226,  61, 421, 172,  18,\n",
              "       152, 162,  47, 156, 267, 332, 461, 447,  59, 149, 413,  70, 254,\n",
              "       477, 375, 102, 176, 280, 206, 250,  48, 154, 224, 314, 126, 166,\n",
              "        95, 269, 380, 240, 236, 338, 347, 266, 303, 276, 410,   5, 495,\n",
              "        72, 234, 328,  66, 417, 416,  49, 270, 466, 379, 456, 407, 231,\n",
              "       502, 383,  17, 278, 371, 193, 189, 339, 349, 223, 455, 252, 364,\n",
              "       393, 431,  16, 437, 449, 310, 182, 264,  25, 378, 283, 148, 100,\n",
              "        51, 169, 475, 307, 293, 256, 313, 494, 239, 284, 491, 485, 290,\n",
              "        65, 302, 286])"
            ]
          },
          "metadata": {
            "tags": []
          },
          "execution_count": 76
        }
      ]
    },
    {
      "cell_type": "markdown",
      "metadata": {
        "id": "1C6sqhUbLMGe"
      },
      "source": [
        "# Porbabilistic generative model\n",
        "\n",
        "In this section we will discuss a generative approach to binary classification. Again, we will not go through the formulation detailedly. Please find [Prof. Lee's lecture](https://www.youtube.com/watch?v=fZAZUYEeIMg) if you are interested in it.\n",
        "\n",
        "接者我們將實作基於 generative model 的二元分類器，理論細節請參考[李宏毅老師的教學影片](https://www.youtube.com/watch?v=fZAZUYEeIMg)。\n",
        "\n",
        "### Preparing Data\n",
        "\n",
        "Training and testing data is loaded and normalized as in logistic regression. However, since LDA is a deterministic algorithm, there is no need to build a development set.\n",
        "\n",
        "訓練集與測試集的處理方法跟 logistic regression 一模一樣，然而因為 generative model 有可解析的最佳解，因此不必使用到 development set。"
      ]
    },
    {
      "cell_type": "code",
      "metadata": {
        "id": "czWXO7qML8DU"
      },
      "source": [
        "# Parse csv files to numpy array\n",
        "with open(X_train_fpath) as f:\n",
        "    next(f)\n",
        "    X_train = np.array([line.strip('\\n').split(',')[1:] for line in f], dtype = float)\n",
        "with open(Y_train_fpath) as f:\n",
        "    next(f)\n",
        "    Y_train = np.array([line.strip('\\n').split(',')[1] for line in f], dtype = float)\n",
        "with open(X_test_fpath) as f:\n",
        "    next(f)\n",
        "    X_test = np.array([line.strip('\\n').split(',')[1:] for line in f], dtype = float)\n",
        "\n",
        "# Normalize training and testing data\n",
        "X_train, X_mean, X_std = _normalize(X_train, train = True)\n",
        "X_test, _, _= _normalize(X_test, train = False, specified_column = None, X_mean = X_mean, X_std = X_std)"
      ],
      "execution_count": null,
      "outputs": []
    },
    {
      "cell_type": "markdown",
      "metadata": {
        "id": "L8NGKl-EPvok"
      },
      "source": [
        "### Mean and Covariance\n",
        "\n",
        "In generative model, in-class mean and covariance are needed.\n",
        "\n",
        "在 generative model 中，我們需要分別計算兩個類別內的資料平均與共變異。"
      ]
    },
    {
      "cell_type": "code",
      "metadata": {
        "id": "iQrzXXKUPwHT"
      },
      "source": [
        "# Compute in-class mean\n",
        "X_train_0 = np.array([x for x, y in zip(X_train, Y_train) if y == 0])\n",
        "X_train_1 = np.array([x for x, y in zip(X_train, Y_train) if y == 1])\n",
        "\n",
        "mean_0 = np.mean(X_train_0, axis = 0)\n",
        "mean_1 = np.mean(X_train_1, axis = 0)  \n",
        "\n",
        "# Compute in-class covariance\n",
        "cov_0 = np.zeros((data_dim, data_dim))\n",
        "cov_1 = np.zeros((data_dim, data_dim))\n",
        "\n",
        "for x in X_train_0:\n",
        "    cov_0 += np.dot(np.transpose([x - mean_0]), [x - mean_0]) / X_train_0.shape[0]\n",
        "for x in X_train_1:\n",
        "    cov_1 += np.dot(np.transpose([x - mean_1]), [x - mean_1]) / X_train_1.shape[0]\n",
        "\n",
        "# Shared covariance is taken as a weighted average of individual in-class covariance.\n",
        "cov = (cov_0 * X_train_0.shape[0] + cov_1 * X_train_1.shape[0]) / (X_train_0.shape[0] + X_train_1.shape[0])"
      ],
      "execution_count": null,
      "outputs": []
    },
    {
      "cell_type": "code",
      "metadata": {
        "id": "ZTVFyPE9dKTi"
      },
      "source": [
        "def calAccuracy(X_train, Y_train):\n",
        "  # Compute in-class mean\n",
        "  X_train_0 = np.array([x for x, y in zip(X_train, Y_train) if y == 0])\n",
        "  X_train_1 = np.array([x for x, y in zip(X_train, Y_train) if y == 1])\n",
        "\n",
        "  mean_0 = np.mean(X_train_0, axis = 0)\n",
        "  mean_1 = np.mean(X_train_1, axis = 0)  \n",
        "\n",
        "  # Compute in-class covariance\n",
        "  feature_size = X_train.shape[1]\n",
        "  cov_0 = np.zeros((feature_size, feature_size))\n",
        "  cov_1 = np.zeros((feature_size, feature_size))\n",
        "\n",
        "  for x in X_train_0:\n",
        "      cov_0 += np.dot(np.transpose([x - mean_0]), [x - mean_0]) / X_train_0.shape[0]\n",
        "  for x in X_train_1:\n",
        "      cov_1 += np.dot(np.transpose([x - mean_1]), [x - mean_1]) / X_train_1.shape[0]\n",
        "\n",
        "  # Shared covariance is taken as a weighted average of individual in-class covariance.\n",
        "  cov = (cov_0 * X_train_0.shape[0] + cov_1 * X_train_1.shape[0]) / (X_train_0.shape[0] + X_train_1.shape[0])\n",
        "\n",
        "  u, s, v = np.linalg.svd(cov, full_matrices=False)\n",
        "  inv = np.matmul(v.T * 1 / s, u.T)\n",
        "\n",
        "  # Directly compute weights and bias\n",
        "  w = np.dot(inv, mean_0 - mean_1)\n",
        "  b =  (-0.5) * np.dot(mean_0, np.dot(inv, mean_0)) + 0.5 * np.dot(mean_1, np.dot(inv, mean_1))\\\n",
        "      + np.log(float(X_train_0.shape[0]) / X_train_1.shape[0]) \n",
        "\n",
        "  # Compute accuracy on training set\n",
        "  Y_train_pred = 1 - _predict(X_train, w, b)\n",
        "  print('Training accuracy: {}'.format(_accuracy(Y_train_pred, Y_train)))\n",
        "  print('w:',w)\n",
        "  print('b:',b)\n",
        "  return w, b"
      ],
      "execution_count": null,
      "outputs": []
    },
    {
      "cell_type": "code",
      "metadata": {
        "id": "NgmRjm-2jR5J"
      },
      "source": [
        "ind2 = [141,  25, 148,  24, 162, 255, 350, 169,  18, 152,  60,  22, 145,\n",
        "       154, 100, 353,  48,  42, 138, 349,  78, 302,  45,  66, 151, 352,\n",
        "        67, 165, 174, 286,  95, 346, 200,   8, 414, 327,  19, 153, 140,\n",
        "       317, 136,  47, 147, 337, 134, 331,  21, 221,  49,   1, 156,  98,\n",
        "       149, 191, 158, 137, 508, 166,  50, 170,  44,  85,  59, 294, 139,\n",
        "        32, 131, 339, 192, 223, 429,  52, 504, 108, 493, 340,  74, 168,\n",
        "       297, 323, 161, 324, 438, 164, 457, 312, 142, 216, 132, 333,  55,\n",
        "         9, 175, 144, 505, 177,  43, 452, 501, 173,  97, 338, 362,   4,\n",
        "       472,  99, 359, 150,   3, 172, 356, 205, 481, 127, 130, 213,  68,\n",
        "       283, 334, 506, 300, 113, 409, 180,  33, 343, 203,  76, 316,  86,\n",
        "       277, 360,   0, 329,  81,  75,  69, 357, 441, 217, 418,  91, 509,\n",
        "        77, 440, 423, 193, 218, 507, 133,  34,  71, 195, 497, 128,  93,\n",
        "       210,  80, 408, 120,   7, 212, 431, 275, 204, 410, 178, 422, 424,\n",
        "       117, 433, 116, 415, 347, 358,  89, 355, 129, 155, 287,  31, 503,\n",
        "        94,  82,  40, 419, 211, 451, 371,   2, 342,  27, 449, 215, 171,\n",
        "       461,  62, 436,  96, 176, 458, 305, 427, 326, 495, 101, 220,  65,\n",
        "       163, 467,  61, 407,  64, 483, 281,  84, 311, 361,   5, 280, 462,\n",
        "       465, 190,  70, 450, 411,  87, 239, 476,  36,  13, 123, 470, 320,\n",
        "       453, 446, 432, 421, 328, 443, 448, 214, 363, 107, 234, 233, 466,\n",
        "        37, 430, 480, 207,  72, 417,  92, 474, 135, 330, 455, 242, 444,\n",
        "       303, 439,  11,  35, 479, 122, 240, 261, 179, 292, 491, 475, 187,\n",
        "       288, 247, 484, 454, 157, 298, 394, 354, 435, 289, 469, 434, 309,\n",
        "       184, 143, 437, 489, 445,  26, 478, 278, 160,  73, 224,  38, 494,\n",
        "        83, 199, 209, 428,  90, 473, 366, 231, 257, 252, 487, 420, 426,\n",
        "       114, 264, 460, 219, 463, 194, 385,  57, 235, 412, 315, 256, 276,\n",
        "       295, 232, 447, 167, 500, 471, 124, 236, 336,  58, 459, 189, 502,\n",
        "       425, 325, 492, 335,  46, 188, 183, 243, 296, 241, 416, 197, 225,\n",
        "       321, 246, 488, 206, 260, 262, 391, 115,   6, 464, 482, 248,  15,\n",
        "       413, 125, 119,  29, 222, 396, 490,  16, 397, 477, 351,  14, 318,\n",
        "        28, 237, 271, 268, 159, 104, 238, 229, 274, 468, 498, 103, 253,\n",
        "       308,  79, 249, 196, 332, 380, 208, 226, 386, 228, 250, 263, 388,\n",
        "       377, 378, 406, 322, 109, 270, 344, 375, 202, 273, 267, 266, 269,\n",
        "        88, 372,  39, 379, 201, 181, 403,  54, 106, 198, 373, 486, 301,\n",
        "        30, 442, 365, 499, 102, 345, 387, 186, 111, 146, 272,  63, 185,\n",
        "        12, 121,  17, 485, 393, 110, 456, 258, 390,  56, 182, 383, 369,\n",
        "       374, 395,  20, 392, 381,  51, 384, 404, 291, 364, 254,  53,  41,\n",
        "       251, 112, 405, 279, 376, 341, 306, 348, 368, 244, 370, 293, 259,\n",
        "       402, 496, 282, 367, 382, 230, 389, 245, 285, 265, 227, 105, 304,\n",
        "       126, 299, 314, 401, 400, 398, 319, 284,  23, 307, 313, 290, 399,\n",
        "       118,  10, 310]"
      ],
      "execution_count": null,
      "outputs": []
    },
    {
      "cell_type": "code",
      "metadata": {
        "id": "nXxMQIpHjXBZ"
      },
      "source": [
        "index2 = ind2[:360]"
      ],
      "execution_count": null,
      "outputs": []
    },
    {
      "cell_type": "code",
      "metadata": {
        "colab": {
          "base_uri": "https://localhost:8080/"
        },
        "id": "aQreUl9IfyEY",
        "outputId": "8025e259-20b8-4239-eb6e-660d6ee97571"
      },
      "source": [
        "w_gen, b_gen = calAccuracy(X_train[:,index2], Y_train)"
      ],
      "execution_count": null,
      "outputs": [
        {
          "output_type": "stream",
          "text": [
            "Training accuracy: 0.8730831613093483\n",
            "w: [-1.68164062e+00  1.26562500e+00  2.17968750e+00  1.13281250e+00\n",
            "  7.76855469e-01  1.42187500e+00 -1.23437500e+00 -2.75000000e+00\n",
            " -6.25000000e-01  7.50000000e-01  1.84375000e+00 -3.67187500e-01\n",
            "  3.43750000e-01 -2.75000000e+00  5.00000000e-01  1.46093750e+00\n",
            "  2.75000000e+00 -1.56250000e-02  4.68750000e-02 -1.56250000e-02\n",
            " -4.89990234e-01 -1.25000000e-01  2.50000000e-01 -4.50683594e-01\n",
            " -1.56250000e-01 -3.62500000e+00 -5.42236328e-01 -7.38769531e-01\n",
            " -1.25000000e+00  2.57812500e+00  6.40625000e-01  2.13281250e+00\n",
            "  1.03125000e+00 -9.37500000e-01  7.78568062e-02  8.75000000e-01\n",
            " -2.65625000e-01  6.74804688e-01  5.31250000e-01  7.29492188e-01\n",
            " -7.26562500e-01  2.18750000e-01 -1.39843750e+00  4.80468750e-01\n",
            " -5.41015625e-01  9.68750000e-01  1.22656250e+00  6.87500000e-01\n",
            " -5.42968750e-01 -3.56445312e-01 -1.56250000e-01 -8.49609375e-01\n",
            "  2.18750000e-01 -3.12500000e-01  3.90625000e-01 -7.18750000e-01\n",
            "  9.02343750e-01 -6.87500000e-01  6.25000000e-01 -1.10351562e-01\n",
            " -3.75000000e-01 -6.87500000e-01 -1.87500000e-01 -1.75437987e-01\n",
            " -4.06250000e-01  5.46875000e-01 -5.43945312e-01  3.12500000e-02\n",
            "  5.15625000e-01  7.81250000e-02 -8.89650932e-03 -3.26660156e-01\n",
            " -8.51562500e-01  2.73437500e-01 -3.85742188e-01  1.29687500e+00\n",
            "  1.12792969e-01 -1.97265625e-01 -4.89257812e-01 -7.81250000e-01\n",
            "  5.49316406e-02  1.98349604e-01  4.16913577e-02  8.12500000e-01\n",
            " -6.64345807e-01 -5.18676980e-02  7.50000000e-01  6.60156250e-01\n",
            " -3.79882812e-01 -9.57031250e-02 -5.62500000e-01 -4.68750000e-02\n",
            "  1.76757812e-01  5.41992188e-02 -6.52343750e-01  6.25000000e-02\n",
            "  1.09375000e+00  2.29980469e-01 -1.04687500e+00  5.88378906e-02\n",
            "  1.04492188e-01  1.06250000e+00 -7.28637695e-01 -1.88476562e-01\n",
            "  6.03979526e-02 -2.90527344e-01 -1.01000977e+00 -1.09375000e+00\n",
            "  3.29589844e-02  1.78222656e-01  3.25195312e-01 -1.47537254e-01\n",
            "  6.96891728e-02  5.56640625e-02 -2.88085938e-01  4.12109375e-01\n",
            " -1.40275593e-01  1.29896862e-01  9.37500000e-01 -1.14062500e+00\n",
            "  4.88734389e-02 -5.99052637e-01  6.12004731e-02  1.13769531e-01\n",
            " -1.39892578e-01  0.00000000e+00  1.17494247e-02 -1.13403320e-01\n",
            "  9.63548320e-01  1.03271484e-01 -6.80542422e-01 -5.26092529e-01\n",
            " -4.99999027e-01  1.19359273e-01 -1.20605469e-01  1.79687500e-01\n",
            " -1.59483336e-01  2.82226562e-01  4.78305449e-02  1.67968750e-01\n",
            "  1.51303728e-02  4.74609375e-01 -2.75000000e+00 -9.16137695e-02\n",
            "  3.53316858e-02 -1.03109678e-02  6.11267090e-02  3.25195312e-01\n",
            " -4.40885120e-01 -1.97753906e-01 -2.92968750e-03  8.28077254e-02\n",
            "  8.33435059e-02 -5.87614668e-01 -1.22070312e-02  5.62500000e-01\n",
            " -4.32011191e-01 -1.40029422e-01  1.51712814e-02 -4.33208375e-01\n",
            " -1.71142578e-01 -4.21986274e-01  4.51295103e-03 -5.00924418e-03\n",
            " -5.09249992e-02  3.37636247e-02  3.95507812e-02  2.27210450e-03\n",
            "  5.19446630e-02 -4.69434151e-01 -2.77478612e-03 -4.50571353e-01\n",
            " -1.42521785e-02 -1.00000000e+00 -3.88534136e-01  4.58984375e-02\n",
            "  2.18750000e+00 -4.58984375e-02 -1.03785299e-01  9.35320844e-02\n",
            "  3.17382812e-02 -2.32177734e-01 -2.99682617e-02  2.05078125e-02\n",
            " -1.67236328e-02  1.08848846e-02 -3.43443756e-01  5.44386787e-02\n",
            "  1.04000894e-02 -3.54248047e-01  2.29492188e-01 -6.67724609e-02\n",
            " -4.08694400e-03  2.00195312e-01  9.44824219e-02  2.69364806e-02\n",
            "  3.13023674e-01 -2.27649209e-02  5.06591797e-03  2.51464844e-02\n",
            "  8.44602269e-02 -1.30126953e-01 -1.22149437e-02  7.95120824e-02\n",
            " -4.30729359e-01 -1.05468750e-01 -1.20042731e-01  7.51953125e-02\n",
            "  2.73437500e-02 -1.07258905e-02 -3.01513672e-02  5.29268442e-03\n",
            "  2.96958794e-01  1.58721943e-02 -1.62353516e-01  3.79638672e-02\n",
            "  4.46813763e-02 -1.17309570e-01 -3.18359375e-01 -1.30371094e-01\n",
            "  4.04826868e-02  1.67691017e-02 -1.08217901e-02 -5.24597168e-02\n",
            "  5.50447847e-02  1.90654210e-02 -6.85729980e-02  2.89948679e-02\n",
            "  4.74488257e-02 -1.16699219e-01 -1.57947307e-01 -2.94731319e-01\n",
            "  5.30501716e-02  2.74868695e-01  1.93830874e-02  2.23879726e-02\n",
            "  2.28382449e-02  6.35489877e-03  4.62253622e-02 -1.76035461e-02\n",
            "  2.02873593e-02  1.44531250e-01 -2.31262207e-01 -1.61743164e-02\n",
            " -5.59029498e-03  1.32297887e-03  2.83618279e-02  1.51367188e-02\n",
            " -4.39587853e-03  5.46787384e-02 -4.71852430e-02 -2.45056152e-02\n",
            "  2.65183974e-02  1.83593750e-01 -9.18612654e-03 -5.81054688e-02\n",
            "  4.83746357e-02  5.79833984e-02 -2.05249468e-02 -2.39847380e-03\n",
            "  5.18258378e-02 -4.02107093e-03 -6.95527336e-02 -8.84014549e-02\n",
            "  1.92473999e-02  1.00776354e-01 -6.37197625e-03 -6.30479652e-03\n",
            "  4.02832031e-02 -7.85761116e-02  2.78770436e-02  4.95805162e-03\n",
            "  5.71228356e-02 -2.19917396e-02 -2.97623912e-02 -8.61498691e-03\n",
            "  1.48956410e-02  1.24747620e-02  2.67416051e-02 -2.79448827e-02\n",
            " -1.05712891e-01  5.41955727e-02 -7.95468051e-02  4.91282521e-02\n",
            "  9.54611911e-03  2.53184008e-02  3.07018699e-02  7.81250000e-02\n",
            "  1.76087104e-02  9.66904075e-03 -1.79425911e-02 -1.56250000e-02\n",
            "  2.97777868e-02 -1.69268167e-02 -1.31250000e+00  6.65893555e-02\n",
            " -7.67568358e-02 -7.81860352e-02 -2.31424904e-01  5.46264648e-02\n",
            "  1.74274273e-02 -1.82205820e-02  2.57145953e-02 -1.55639648e-03\n",
            "  1.62461009e-02 -5.54064200e-02  8.43016145e-03  1.22938662e-02\n",
            "  1.83540616e-02  4.01138408e-02  3.57279718e-02 -4.51976513e-03\n",
            "  8.58708455e-02  7.19382936e-03 -6.99391574e-03 -3.80355156e-02\n",
            "  2.55184075e-04 -2.68096924e-02  3.32017040e-02 -6.11240931e-02\n",
            " -5.57706209e-03  1.18599383e-02 -1.04840927e-01  7.02577150e-03\n",
            " -5.38227104e-03  1.71537386e-02  2.07387597e-02  1.31102178e-02\n",
            " -7.32421875e-01 -1.53581725e-01  7.33573683e-03  7.18521438e-02\n",
            "  1.59573733e-02  4.00110035e-03 -1.74071117e-02  8.78069667e-03\n",
            "  1.97774149e-02 -6.31103516e-02  1.23499474e-02 -4.50594439e-02\n",
            "  1.95281169e-03 -1.07531494e-02  1.83105469e-03  4.81298386e-03\n",
            "  2.47947953e-02  2.31674454e-02 -5.33447266e-02  3.26790009e-02\n",
            "  4.25844125e-03  2.88578102e-02 -2.13593807e-02  1.21809711e-02\n",
            "  2.20778669e-02  2.71657976e-02 -8.95743353e-03 -6.26366667e-03\n",
            " -1.81211811e-02 -6.84158361e-02  5.42840664e-02 -9.46044922e-03]\n",
            "b: 2.7596886401934744\n"
          ],
          "name": "stdout"
        }
      ]
    },
    {
      "cell_type": "markdown",
      "metadata": {
        "id": "kifW1pFxXXA5"
      },
      "source": [
        "### Computing weights and bias\n",
        "\n",
        "Directly compute weights and bias from in-class mean and shared variance. [Prof. Lee's lecture slides](http://speech.ee.ntu.edu.tw/~tlkagk/courses/ML_2016/Lecture/Classification%20(v3).pdf)(p.33) gives a concise explanation.\n",
        "\n",
        "權重矩陣與偏差向量可以直接被計算出來，算法可以參考[李宏毅老師教學投影片](http://speech.ee.ntu.edu.tw/~tlkagk/courses/ML_2016/Lecture/Classification%20(v3).pdf)第 33 頁。"
      ]
    },
    {
      "cell_type": "code",
      "metadata": {
        "id": "UghOxYrUXXPU",
        "colab": {
          "base_uri": "https://localhost:8080/"
        },
        "outputId": "e5b59eea-9341-49af-d8a8-f3a42c20516d"
      },
      "source": [
        "# Compute inverse of covariance matrix.\n",
        "# Since covariance matrix may be nearly singular, np.linalg.inv() may give a large numerical error.\n",
        "# Via SVD decomposition, one can get matrix inverse efficiently and accurately.\n",
        "u, s, v = np.linalg.svd(cov, full_matrices=False)\n",
        "inv = np.matmul(v.T * 1 / s, u.T)\n",
        "\n",
        "# Directly compute weights and bias\n",
        "w = np.dot(inv, mean_0 - mean_1)\n",
        "b =  (-0.5) * np.dot(mean_0, np.dot(inv, mean_0)) + 0.5 * np.dot(mean_1, np.dot(inv, mean_1))\\\n",
        "    + np.log(float(X_train_0.shape[0]) / X_train_1.shape[0]) \n",
        "\n",
        "# Compute accuracy on training set\n",
        "Y_train_pred = 1 - _predict(X_train, w, b)\n",
        "print('Training accuracy: {}'.format(_accuracy(Y_train_pred, Y_train)))"
      ],
      "execution_count": null,
      "outputs": [
        {
          "output_type": "stream",
          "text": [
            "Training accuracy: 0.8725486582129165\n"
          ],
          "name": "stdout"
        }
      ]
    },
    {
      "cell_type": "markdown",
      "metadata": {
        "id": "RDKWzBy0bi3c"
      },
      "source": [
        "###Predicting testing labels\n",
        "\n",
        "Predictions are saved to *output_generative.csv*.\n",
        "\n",
        "預測測試集的資料標籤並且存在 *output_generative.csv* 中。"
      ]
    },
    {
      "cell_type": "code",
      "metadata": {
        "id": "64cyZvpdmAnb"
      },
      "source": [
        "def saveCon(X_test, w, b):\n",
        "  predictions = 1 - _predict(X_test, w, b)\n",
        "  with open(output_fpath.format('generative'), 'w') as f:\n",
        "      f.write('id,label\\n')\n",
        "      for i, label in  enumerate(predictions):\n",
        "          f.write('{},{}\\n'.format(i, label))"
      ],
      "execution_count": null,
      "outputs": []
    },
    {
      "cell_type": "code",
      "metadata": {
        "id": "b75LBHNgmH7Z"
      },
      "source": [
        "saveCon(X_test[:,index2], w_gen, b_gen)"
      ],
      "execution_count": null,
      "outputs": []
    },
    {
      "cell_type": "code",
      "metadata": {
        "id": "T3QjToT_Sq9J",
        "colab": {
          "base_uri": "https://localhost:8080/"
        },
        "outputId": "08dcb3e9-547d-4576-893f-8a481f3e0a77"
      },
      "source": [
        "# Predict testing labels\n",
        "predictions = 1 - _predict(X_test, w, b)\n",
        "with open(output_fpath.format('generative'), 'w') as f:\n",
        "    f.write('id,label\\n')\n",
        "    for i, label in  enumerate(predictions):\n",
        "        f.write('{},{}\\n'.format(i, label))\n",
        "\n",
        "# Print out the most significant weights\n",
        "ind = np.argsort(np.abs(w))[::-1]\n",
        "with open(X_test_fpath) as f:\n",
        "    content = f.readline().strip('\\n').split(',')\n",
        "features = np.array(content)\n",
        "for i in ind[0:10]:\n",
        "    print(features[i], w[i])\n"
      ],
      "execution_count": null,
      "outputs": [
        {
          "output_type": "stream",
          "text": [
            " Retail trade 8.65380859375\n",
            " 34 -6.53564453125\n",
            " Utilities and sanitary services 6.458984375\n",
            " 37 -6.03125\n",
            " Other service -5.563720703125\n",
            " Tennessee -4.6640625\n",
            " Abroad 4.48828125\n",
            " Sales -4.28515625\n",
            " 17 -4.28515625\n",
            " Education 4.189453125\n"
          ],
          "name": "stdout"
        }
      ]
    },
    {
      "cell_type": "code",
      "metadata": {
        "colab": {
          "base_uri": "https://localhost:8080/"
        },
        "id": "TW7l3Vr5hlxw",
        "outputId": "42c19997-cc9e-4981-95f9-eeea725e8e03"
      },
      "source": [
        "ind"
      ],
      "execution_count": null,
      "outputs": [
        {
          "output_type": "execute_result",
          "data": {
            "text/plain": [
              "array([141,  25, 148,  24, 162, 255, 350, 169,  18, 152,  60,  22, 145,\n",
              "       154, 100, 353,  48,  42, 138, 349,  78, 302,  45,  66, 151, 352,\n",
              "        67, 165, 174, 286,  95, 346, 200,   8, 414, 327,  19, 153, 140,\n",
              "       317, 136,  47, 147, 337, 134, 331,  21, 221,  49,   1, 156,  98,\n",
              "       149, 191, 158, 137, 508, 166,  50, 170,  44,  85,  59, 294, 139,\n",
              "        32, 131, 339, 192, 223, 429,  52, 504, 108, 493, 340,  74, 168,\n",
              "       297, 323, 161, 324, 438, 164, 457, 312, 142, 216, 132, 333,  55,\n",
              "         9, 175, 144, 505, 177,  43, 452, 501, 173,  97, 338, 362,   4,\n",
              "       472,  99, 359, 150,   3, 172, 356, 205, 481, 127, 130, 213,  68,\n",
              "       283, 334, 506, 300, 113, 409, 180,  33, 343, 203,  76, 316,  86,\n",
              "       277, 360,   0, 329,  81,  75,  69, 357, 441, 217, 418,  91, 509,\n",
              "        77, 440, 423, 193, 218, 507, 133,  34,  71, 195, 497, 128,  93,\n",
              "       210,  80, 408, 120,   7, 212, 431, 275, 204, 410, 178, 422, 424,\n",
              "       117, 433, 116, 415, 347, 358,  89, 355, 129, 155, 287,  31, 503,\n",
              "        94,  82,  40, 419, 211, 451, 371,   2, 342,  27, 449, 215, 171,\n",
              "       461,  62, 436,  96, 176, 458, 305, 427, 326, 495, 101, 220,  65,\n",
              "       163, 467,  61, 407,  64, 483, 281,  84, 311, 361,   5, 280, 462,\n",
              "       465, 190,  70, 450, 411,  87, 239, 476,  36,  13, 123, 470, 320,\n",
              "       453, 446, 432, 421, 328, 443, 448, 214, 363, 107, 234, 233, 466,\n",
              "        37, 430, 480, 207,  72, 417,  92, 474, 135, 330, 455, 242, 444,\n",
              "       303, 439,  11,  35, 479, 122, 240, 261, 179, 292, 491, 475, 187,\n",
              "       288, 247, 484, 454, 157, 298, 394, 354, 435, 289, 469, 434, 309,\n",
              "       184, 143, 437, 489, 445,  26, 478, 278, 160,  73, 224,  38, 494,\n",
              "        83, 199, 209, 428,  90, 473, 366, 231, 257, 252, 487, 420, 426,\n",
              "       114, 264, 460, 219, 463, 194, 385,  57, 235, 412, 315, 256, 276,\n",
              "       295, 232, 447, 167, 500, 471, 124, 236, 336,  58, 459, 189, 502,\n",
              "       425, 325, 492, 335,  46, 188, 183, 243, 296, 241, 416, 197, 225,\n",
              "       321, 246, 488, 206, 260, 262, 391, 115,   6, 464, 482, 248,  15,\n",
              "       413, 125, 119,  29, 222, 396, 490,  16, 397, 477, 351,  14, 318,\n",
              "        28, 237, 271, 268, 159, 104, 238, 229, 274, 468, 498, 103, 253,\n",
              "       308,  79, 249, 196, 332, 380, 208, 226, 386, 228, 250, 263, 388,\n",
              "       377, 378, 406, 322, 109, 270, 344, 375, 202, 273, 267, 266, 269,\n",
              "        88, 372,  39, 379, 201, 181, 403,  54, 106, 198, 373, 486, 301,\n",
              "        30, 442, 365, 499, 102, 345, 387, 186, 111, 146, 272,  63, 185,\n",
              "        12, 121,  17, 485, 393, 110, 456, 258, 390,  56, 182, 383, 369,\n",
              "       374, 395,  20, 392, 381,  51, 384, 404, 291, 364, 254,  53,  41,\n",
              "       251, 112, 405, 279, 376, 341, 306, 348, 368, 244, 370, 293, 259,\n",
              "       402, 496, 282, 367, 382, 230, 389, 245, 285, 265, 227, 105, 304,\n",
              "       126, 299, 314, 401, 400, 398, 319, 284,  23, 307, 313, 290, 399,\n",
              "       118,  10, 310])"
            ]
          },
          "metadata": {
            "tags": []
          },
          "execution_count": 32
        }
      ]
    },
    {
      "cell_type": "code",
      "metadata": {
        "id": "dKjY4GBQidgF"
      },
      "source": [
        ""
      ],
      "execution_count": null,
      "outputs": []
    }
  ]
}